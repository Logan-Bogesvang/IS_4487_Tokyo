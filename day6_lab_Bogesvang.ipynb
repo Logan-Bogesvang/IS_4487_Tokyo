{
  "cells": [
    {
      "cell_type": "markdown",
      "metadata": {
        "id": "view-in-github",
        "colab_type": "text"
      },
      "source": [
        "<a href=\"https://colab.research.google.com/github/Logan-Bogesvang/IS_4487_Tokyo/blob/main/day6_lab_Bogesvang.ipynb\" target=\"_parent\"><img src=\"https://colab.research.google.com/assets/colab-badge.svg\" alt=\"Open In Colab\"/></a>"
      ]
    },
    {
      "cell_type": "markdown",
      "metadata": {
        "id": "p_Yu45OYdj3Y"
      },
      "source": [
        "# Day 6 Lab, IS 4487\n",
        "\n",
        "The purpose of this lab is to prepare you to complete today's project quiz. Here are the questions you need to be able to answer.\n",
        "\n",
        "- Understand model accuracy.  Why is it a performance metric for classification and not regression?\n",
        "- Calculate accuracy for a simple majority class model (this is the same as calculating the proportion of the majority class in a binary variable).\n",
        "- Fit a tree model of the target with just one predictor variable and calculate the accuracy of this model.\n",
        "- Explain how the classification tree algorithm chooses which variable to split on and where to split.\n"
      ]
    },
    {
      "cell_type": "markdown",
      "metadata": {
        "id": "UE93RwXhgiJS"
      },
      "source": [
        "## Load Libraries\n",
        "\n"
      ]
    },
    {
      "cell_type": "code",
      "execution_count": 1,
      "metadata": {
        "id": "JYRZY5n0gfNe"
      },
      "outputs": [],
      "source": [
        "import pandas as pd\n",
        "import matplotlib.pyplot as plt\n",
        "from sklearn.tree import plot_tree\n",
        "import numpy as np\n",
        "\n",
        "from sklearn.tree import DecisionTreeClassifier, export_graphviz # Import Decision Tree Classifier\n",
        "from sklearn.model_selection import train_test_split # Import train_test_split function\n",
        "from sklearn import metrics #Import scikit-learn metrics module for accuracy calculation\n",
        "from sklearn import tree"
      ]
    },
    {
      "cell_type": "markdown",
      "metadata": {
        "id": "bREaXo8jfu-O"
      },
      "source": [
        "## Get Data\n"
      ]
    },
    {
      "cell_type": "code",
      "execution_count": 2,
      "metadata": {
        "vscode": {
          "languageId": "plaintext"
        },
        "id": "O8P7DoGU3aG8"
      },
      "outputs": [],
      "source": [
        "mtc = pd.read_csv(\"https://raw.githubusercontent.com/jefftwebb/is_4487_base/dd870389117d5b24eee7417d5378d80496555130/Labs/DataSets/megatelco_leave_survey.csv\")"
      ]
    },
    {
      "cell_type": "markdown",
      "metadata": {
        "id": "BtxOWvFlKzgE"
      },
      "source": [
        "## Clean the data\n",
        "\n",
        "Perform the cleaning from the previous labs:\n",
        "- Remove negative values of income and house\n",
        "- Remove absurdly large value of handset_price\n",
        "- Remove NAs\n",
        "- Make character variables into categorical (AKA factor) variables.\n"
      ]
    },
    {
      "cell_type": "code",
      "execution_count": 4,
      "metadata": {
        "vscode": {
          "languageId": "plaintext"
        },
        "id": "-Qs5j2i23aG8"
      },
      "outputs": [],
      "source": [
        "# filter rows\n",
        "mtc_clean = mtc[(mtc['house'] > 0) & (mtc['income'] > 0) & (mtc['handset_price'] < 1000)]"
      ]
    },
    {
      "cell_type": "code",
      "source": [
        "# remove NAs\n",
        "mtc_clean = mtc_clean.dropna()"
      ],
      "metadata": {
        "id": "U0jC5mp0DHUN"
      },
      "execution_count": 5,
      "outputs": []
    },
    {
      "cell_type": "code",
      "source": [
        "# Convert string to categorical variables (including college)\n",
        "mtc_clean['reported_satisfaction'] = mtc_clean['reported_satisfaction'].astype('category')\n",
        "mtc_clean['reported_usage_level'] = mtc_clean['reported_usage_level'].astype('category')\n",
        "mtc_clean['considering_change_of_plan'] = mtc_clean['considering_change_of_plan'].astype('category')\n",
        "mtc_clean['college'] = mtc_clean['college'].astype('category')\n",
        "mtc_clean['leave'] = mtc_clean['leave'].astype('category')"
      ],
      "metadata": {
        "id": "cc-Z0X9QDIUZ"
      },
      "execution_count": 6,
      "outputs": []
    },
    {
      "cell_type": "code",
      "execution_count": 7,
      "metadata": {
        "id": "7KXLvMcBK8Za",
        "colab": {
          "base_uri": "https://localhost:8080/",
          "height": 300
        },
        "outputId": "c21401d7-2f31-454f-ae9c-a38a00481c2d"
      },
      "outputs": [
        {
          "output_type": "execute_result",
          "data": {
            "text/plain": [
              "              income      overage     leftover           house  handset_price  \\\n",
              "count    4994.000000  4994.000000  4994.000000     4994.000000    4994.000000   \n",
              "mean    79911.270525    85.114738    24.244694   493946.252903     387.616340   \n",
              "std     41683.689543    85.610045    26.844259   253599.007645     213.659555   \n",
              "min     20028.000000     0.000000     0.000000   150305.000000     130.000000   \n",
              "25%     41591.500000     0.000000     0.000000   260741.500000     219.000000   \n",
              "50%     74962.500000    59.000000    15.000000   452087.500000     322.000000   \n",
              "75%    115497.000000   177.000000    42.000000   701612.250000     528.000000   \n",
              "max    159938.000000   335.000000    89.000000  1000000.000000     899.000000   \n",
              "\n",
              "       over_15mins_calls_per_month  average_call_duration            id  \n",
              "count                  4994.000000            4994.000000   4994.000000  \n",
              "mean                      7.739287               5.957549  10032.925110  \n",
              "std                       8.802897               4.389439   5815.013219  \n",
              "min                       0.000000               1.000000      2.000000  \n",
              "25%                       1.000000               2.000000   4943.000000  \n",
              "50%                       4.000000               5.000000  10124.000000  \n",
              "75%                      14.000000               9.000000  15082.750000  \n",
              "max                      29.000000              15.000000  20000.000000  "
            ],
            "text/html": [
              "\n",
              "  <div id=\"df-6341fcd1-70c4-4c4d-a3d4-16693904e6ba\" class=\"colab-df-container\">\n",
              "    <div>\n",
              "<style scoped>\n",
              "    .dataframe tbody tr th:only-of-type {\n",
              "        vertical-align: middle;\n",
              "    }\n",
              "\n",
              "    .dataframe tbody tr th {\n",
              "        vertical-align: top;\n",
              "    }\n",
              "\n",
              "    .dataframe thead th {\n",
              "        text-align: right;\n",
              "    }\n",
              "</style>\n",
              "<table border=\"1\" class=\"dataframe\">\n",
              "  <thead>\n",
              "    <tr style=\"text-align: right;\">\n",
              "      <th></th>\n",
              "      <th>income</th>\n",
              "      <th>overage</th>\n",
              "      <th>leftover</th>\n",
              "      <th>house</th>\n",
              "      <th>handset_price</th>\n",
              "      <th>over_15mins_calls_per_month</th>\n",
              "      <th>average_call_duration</th>\n",
              "      <th>id</th>\n",
              "    </tr>\n",
              "  </thead>\n",
              "  <tbody>\n",
              "    <tr>\n",
              "      <th>count</th>\n",
              "      <td>4994.000000</td>\n",
              "      <td>4994.000000</td>\n",
              "      <td>4994.000000</td>\n",
              "      <td>4994.000000</td>\n",
              "      <td>4994.000000</td>\n",
              "      <td>4994.000000</td>\n",
              "      <td>4994.000000</td>\n",
              "      <td>4994.000000</td>\n",
              "    </tr>\n",
              "    <tr>\n",
              "      <th>mean</th>\n",
              "      <td>79911.270525</td>\n",
              "      <td>85.114738</td>\n",
              "      <td>24.244694</td>\n",
              "      <td>493946.252903</td>\n",
              "      <td>387.616340</td>\n",
              "      <td>7.739287</td>\n",
              "      <td>5.957549</td>\n",
              "      <td>10032.925110</td>\n",
              "    </tr>\n",
              "    <tr>\n",
              "      <th>std</th>\n",
              "      <td>41683.689543</td>\n",
              "      <td>85.610045</td>\n",
              "      <td>26.844259</td>\n",
              "      <td>253599.007645</td>\n",
              "      <td>213.659555</td>\n",
              "      <td>8.802897</td>\n",
              "      <td>4.389439</td>\n",
              "      <td>5815.013219</td>\n",
              "    </tr>\n",
              "    <tr>\n",
              "      <th>min</th>\n",
              "      <td>20028.000000</td>\n",
              "      <td>0.000000</td>\n",
              "      <td>0.000000</td>\n",
              "      <td>150305.000000</td>\n",
              "      <td>130.000000</td>\n",
              "      <td>0.000000</td>\n",
              "      <td>1.000000</td>\n",
              "      <td>2.000000</td>\n",
              "    </tr>\n",
              "    <tr>\n",
              "      <th>25%</th>\n",
              "      <td>41591.500000</td>\n",
              "      <td>0.000000</td>\n",
              "      <td>0.000000</td>\n",
              "      <td>260741.500000</td>\n",
              "      <td>219.000000</td>\n",
              "      <td>1.000000</td>\n",
              "      <td>2.000000</td>\n",
              "      <td>4943.000000</td>\n",
              "    </tr>\n",
              "    <tr>\n",
              "      <th>50%</th>\n",
              "      <td>74962.500000</td>\n",
              "      <td>59.000000</td>\n",
              "      <td>15.000000</td>\n",
              "      <td>452087.500000</td>\n",
              "      <td>322.000000</td>\n",
              "      <td>4.000000</td>\n",
              "      <td>5.000000</td>\n",
              "      <td>10124.000000</td>\n",
              "    </tr>\n",
              "    <tr>\n",
              "      <th>75%</th>\n",
              "      <td>115497.000000</td>\n",
              "      <td>177.000000</td>\n",
              "      <td>42.000000</td>\n",
              "      <td>701612.250000</td>\n",
              "      <td>528.000000</td>\n",
              "      <td>14.000000</td>\n",
              "      <td>9.000000</td>\n",
              "      <td>15082.750000</td>\n",
              "    </tr>\n",
              "    <tr>\n",
              "      <th>max</th>\n",
              "      <td>159938.000000</td>\n",
              "      <td>335.000000</td>\n",
              "      <td>89.000000</td>\n",
              "      <td>1000000.000000</td>\n",
              "      <td>899.000000</td>\n",
              "      <td>29.000000</td>\n",
              "      <td>15.000000</td>\n",
              "      <td>20000.000000</td>\n",
              "    </tr>\n",
              "  </tbody>\n",
              "</table>\n",
              "</div>\n",
              "    <div class=\"colab-df-buttons\">\n",
              "\n",
              "  <div class=\"colab-df-container\">\n",
              "    <button class=\"colab-df-convert\" onclick=\"convertToInteractive('df-6341fcd1-70c4-4c4d-a3d4-16693904e6ba')\"\n",
              "            title=\"Convert this dataframe to an interactive table.\"\n",
              "            style=\"display:none;\">\n",
              "\n",
              "  <svg xmlns=\"http://www.w3.org/2000/svg\" height=\"24px\" viewBox=\"0 -960 960 960\">\n",
              "    <path d=\"M120-120v-720h720v720H120Zm60-500h600v-160H180v160Zm220 220h160v-160H400v160Zm0 220h160v-160H400v160ZM180-400h160v-160H180v160Zm440 0h160v-160H620v160ZM180-180h160v-160H180v160Zm440 0h160v-160H620v160Z\"/>\n",
              "  </svg>\n",
              "    </button>\n",
              "\n",
              "  <style>\n",
              "    .colab-df-container {\n",
              "      display:flex;\n",
              "      gap: 12px;\n",
              "    }\n",
              "\n",
              "    .colab-df-convert {\n",
              "      background-color: #E8F0FE;\n",
              "      border: none;\n",
              "      border-radius: 50%;\n",
              "      cursor: pointer;\n",
              "      display: none;\n",
              "      fill: #1967D2;\n",
              "      height: 32px;\n",
              "      padding: 0 0 0 0;\n",
              "      width: 32px;\n",
              "    }\n",
              "\n",
              "    .colab-df-convert:hover {\n",
              "      background-color: #E2EBFA;\n",
              "      box-shadow: 0px 1px 2px rgba(60, 64, 67, 0.3), 0px 1px 3px 1px rgba(60, 64, 67, 0.15);\n",
              "      fill: #174EA6;\n",
              "    }\n",
              "\n",
              "    .colab-df-buttons div {\n",
              "      margin-bottom: 4px;\n",
              "    }\n",
              "\n",
              "    [theme=dark] .colab-df-convert {\n",
              "      background-color: #3B4455;\n",
              "      fill: #D2E3FC;\n",
              "    }\n",
              "\n",
              "    [theme=dark] .colab-df-convert:hover {\n",
              "      background-color: #434B5C;\n",
              "      box-shadow: 0px 1px 3px 1px rgba(0, 0, 0, 0.15);\n",
              "      filter: drop-shadow(0px 1px 2px rgba(0, 0, 0, 0.3));\n",
              "      fill: #FFFFFF;\n",
              "    }\n",
              "  </style>\n",
              "\n",
              "    <script>\n",
              "      const buttonEl =\n",
              "        document.querySelector('#df-6341fcd1-70c4-4c4d-a3d4-16693904e6ba button.colab-df-convert');\n",
              "      buttonEl.style.display =\n",
              "        google.colab.kernel.accessAllowed ? 'block' : 'none';\n",
              "\n",
              "      async function convertToInteractive(key) {\n",
              "        const element = document.querySelector('#df-6341fcd1-70c4-4c4d-a3d4-16693904e6ba');\n",
              "        const dataTable =\n",
              "          await google.colab.kernel.invokeFunction('convertToInteractive',\n",
              "                                                    [key], {});\n",
              "        if (!dataTable) return;\n",
              "\n",
              "        const docLinkHtml = 'Like what you see? Visit the ' +\n",
              "          '<a target=\"_blank\" href=https://colab.research.google.com/notebooks/data_table.ipynb>data table notebook</a>'\n",
              "          + ' to learn more about interactive tables.';\n",
              "        element.innerHTML = '';\n",
              "        dataTable['output_type'] = 'display_data';\n",
              "        await google.colab.output.renderOutput(dataTable, element);\n",
              "        const docLink = document.createElement('div');\n",
              "        docLink.innerHTML = docLinkHtml;\n",
              "        element.appendChild(docLink);\n",
              "      }\n",
              "    </script>\n",
              "  </div>\n",
              "\n",
              "\n",
              "<div id=\"df-4226bd8f-38fc-4f14-a8a1-854b091733a0\">\n",
              "  <button class=\"colab-df-quickchart\" onclick=\"quickchart('df-4226bd8f-38fc-4f14-a8a1-854b091733a0')\"\n",
              "            title=\"Suggest charts\"\n",
              "            style=\"display:none;\">\n",
              "\n",
              "<svg xmlns=\"http://www.w3.org/2000/svg\" height=\"24px\"viewBox=\"0 0 24 24\"\n",
              "     width=\"24px\">\n",
              "    <g>\n",
              "        <path d=\"M19 3H5c-1.1 0-2 .9-2 2v14c0 1.1.9 2 2 2h14c1.1 0 2-.9 2-2V5c0-1.1-.9-2-2-2zM9 17H7v-7h2v7zm4 0h-2V7h2v10zm4 0h-2v-4h2v4z\"/>\n",
              "    </g>\n",
              "</svg>\n",
              "  </button>\n",
              "\n",
              "<style>\n",
              "  .colab-df-quickchart {\n",
              "      --bg-color: #E8F0FE;\n",
              "      --fill-color: #1967D2;\n",
              "      --hover-bg-color: #E2EBFA;\n",
              "      --hover-fill-color: #174EA6;\n",
              "      --disabled-fill-color: #AAA;\n",
              "      --disabled-bg-color: #DDD;\n",
              "  }\n",
              "\n",
              "  [theme=dark] .colab-df-quickchart {\n",
              "      --bg-color: #3B4455;\n",
              "      --fill-color: #D2E3FC;\n",
              "      --hover-bg-color: #434B5C;\n",
              "      --hover-fill-color: #FFFFFF;\n",
              "      --disabled-bg-color: #3B4455;\n",
              "      --disabled-fill-color: #666;\n",
              "  }\n",
              "\n",
              "  .colab-df-quickchart {\n",
              "    background-color: var(--bg-color);\n",
              "    border: none;\n",
              "    border-radius: 50%;\n",
              "    cursor: pointer;\n",
              "    display: none;\n",
              "    fill: var(--fill-color);\n",
              "    height: 32px;\n",
              "    padding: 0;\n",
              "    width: 32px;\n",
              "  }\n",
              "\n",
              "  .colab-df-quickchart:hover {\n",
              "    background-color: var(--hover-bg-color);\n",
              "    box-shadow: 0 1px 2px rgba(60, 64, 67, 0.3), 0 1px 3px 1px rgba(60, 64, 67, 0.15);\n",
              "    fill: var(--button-hover-fill-color);\n",
              "  }\n",
              "\n",
              "  .colab-df-quickchart-complete:disabled,\n",
              "  .colab-df-quickchart-complete:disabled:hover {\n",
              "    background-color: var(--disabled-bg-color);\n",
              "    fill: var(--disabled-fill-color);\n",
              "    box-shadow: none;\n",
              "  }\n",
              "\n",
              "  .colab-df-spinner {\n",
              "    border: 2px solid var(--fill-color);\n",
              "    border-color: transparent;\n",
              "    border-bottom-color: var(--fill-color);\n",
              "    animation:\n",
              "      spin 1s steps(1) infinite;\n",
              "  }\n",
              "\n",
              "  @keyframes spin {\n",
              "    0% {\n",
              "      border-color: transparent;\n",
              "      border-bottom-color: var(--fill-color);\n",
              "      border-left-color: var(--fill-color);\n",
              "    }\n",
              "    20% {\n",
              "      border-color: transparent;\n",
              "      border-left-color: var(--fill-color);\n",
              "      border-top-color: var(--fill-color);\n",
              "    }\n",
              "    30% {\n",
              "      border-color: transparent;\n",
              "      border-left-color: var(--fill-color);\n",
              "      border-top-color: var(--fill-color);\n",
              "      border-right-color: var(--fill-color);\n",
              "    }\n",
              "    40% {\n",
              "      border-color: transparent;\n",
              "      border-right-color: var(--fill-color);\n",
              "      border-top-color: var(--fill-color);\n",
              "    }\n",
              "    60% {\n",
              "      border-color: transparent;\n",
              "      border-right-color: var(--fill-color);\n",
              "    }\n",
              "    80% {\n",
              "      border-color: transparent;\n",
              "      border-right-color: var(--fill-color);\n",
              "      border-bottom-color: var(--fill-color);\n",
              "    }\n",
              "    90% {\n",
              "      border-color: transparent;\n",
              "      border-bottom-color: var(--fill-color);\n",
              "    }\n",
              "  }\n",
              "</style>\n",
              "\n",
              "  <script>\n",
              "    async function quickchart(key) {\n",
              "      const quickchartButtonEl =\n",
              "        document.querySelector('#' + key + ' button');\n",
              "      quickchartButtonEl.disabled = true;  // To prevent multiple clicks.\n",
              "      quickchartButtonEl.classList.add('colab-df-spinner');\n",
              "      try {\n",
              "        const charts = await google.colab.kernel.invokeFunction(\n",
              "            'suggestCharts', [key], {});\n",
              "      } catch (error) {\n",
              "        console.error('Error during call to suggestCharts:', error);\n",
              "      }\n",
              "      quickchartButtonEl.classList.remove('colab-df-spinner');\n",
              "      quickchartButtonEl.classList.add('colab-df-quickchart-complete');\n",
              "    }\n",
              "    (() => {\n",
              "      let quickchartButtonEl =\n",
              "        document.querySelector('#df-4226bd8f-38fc-4f14-a8a1-854b091733a0 button');\n",
              "      quickchartButtonEl.style.display =\n",
              "        google.colab.kernel.accessAllowed ? 'block' : 'none';\n",
              "    })();\n",
              "  </script>\n",
              "</div>\n",
              "\n",
              "    </div>\n",
              "  </div>\n"
            ],
            "application/vnd.google.colaboratory.intrinsic+json": {
              "type": "dataframe",
              "summary": "{\n  \"name\": \"mtc_clean\",\n  \"rows\": 8,\n  \"fields\": [\n    {\n      \"column\": \"income\",\n      \"properties\": {\n        \"dtype\": \"number\",\n        \"std\": 51486.89785448577,\n        \"min\": 4994.0,\n        \"max\": 159938.0,\n        \"num_unique_values\": 8,\n        \"samples\": [\n          79911.27052462955,\n          74962.5,\n          4994.0\n        ],\n        \"semantic_type\": \"\",\n        \"description\": \"\"\n      }\n    },\n    {\n      \"column\": \"overage\",\n      \"properties\": {\n        \"dtype\": \"number\",\n        \"std\": 1731.610614875579,\n        \"min\": 0.0,\n        \"max\": 4994.0,\n        \"num_unique_values\": 7,\n        \"samples\": [\n          4994.0,\n          85.11473768522227,\n          177.0\n        ],\n        \"semantic_type\": \"\",\n        \"description\": \"\"\n      }\n    },\n    {\n      \"column\": \"leftover\",\n      \"properties\": {\n        \"dtype\": \"number\",\n        \"std\": 1755.92177074289,\n        \"min\": 0.0,\n        \"max\": 4994.0,\n        \"num_unique_values\": 7,\n        \"samples\": [\n          4994.0,\n          24.244693632358832,\n          42.0\n        ],\n        \"semantic_type\": \"\",\n        \"description\": \"\"\n      }\n    },\n    {\n      \"column\": \"house\",\n      \"properties\": {\n        \"dtype\": \"number\",\n        \"std\": 320711.9273726603,\n        \"min\": 4994.0,\n        \"max\": 1000000.0,\n        \"num_unique_values\": 8,\n        \"samples\": [\n          493946.25290348416,\n          452087.5,\n          4994.0\n        ],\n        \"semantic_type\": \"\",\n        \"description\": \"\"\n      }\n    },\n    {\n      \"column\": \"handset_price\",\n      \"properties\": {\n        \"dtype\": \"number\",\n        \"std\": 1647.2119771204184,\n        \"min\": 130.0,\n        \"max\": 4994.0,\n        \"num_unique_values\": 8,\n        \"samples\": [\n          387.616339607529,\n          322.0,\n          4994.0\n        ],\n        \"semantic_type\": \"\",\n        \"description\": \"\"\n      }\n    },\n    {\n      \"column\": \"over_15mins_calls_per_month\",\n      \"properties\": {\n        \"dtype\": \"number\",\n        \"std\": 1762.4099271334871,\n        \"min\": 0.0,\n        \"max\": 4994.0,\n        \"num_unique_values\": 8,\n        \"samples\": [\n          7.739287144573488,\n          4.0,\n          4994.0\n        ],\n        \"semantic_type\": \"\",\n        \"description\": \"\"\n      }\n    },\n    {\n      \"column\": \"average_call_duration\",\n      \"properties\": {\n        \"dtype\": \"number\",\n        \"std\": 1763.5122376600102,\n        \"min\": 1.0,\n        \"max\": 4994.0,\n        \"num_unique_values\": 8,\n        \"samples\": [\n          5.957549058870645,\n          5.0,\n          4994.0\n        ],\n        \"semantic_type\": \"\",\n        \"description\": \"\"\n      }\n    },\n    {\n      \"column\": \"id\",\n      \"properties\": {\n        \"dtype\": \"number\",\n        \"std\": 6367.540506858398,\n        \"min\": 2.0,\n        \"max\": 20000.0,\n        \"num_unique_values\": 8,\n        \"samples\": [\n          10032.925110132159,\n          10124.0,\n          4994.0\n        ],\n        \"semantic_type\": \"\",\n        \"description\": \"\"\n      }\n    }\n  ]\n}"
            }
          },
          "metadata": {},
          "execution_count": 7
        }
      ],
      "source": [
        "mtc_clean.describe()"
      ]
    },
    {
      "cell_type": "markdown",
      "source": [
        "Looks good.  We will eventually need to encode the categorical variables numerically but for now we will leave them as is.  "
      ],
      "metadata": {
        "id": "YCf17lzA6EwG"
      }
    },
    {
      "cell_type": "markdown",
      "metadata": {
        "id": "uathUi6xfDPf"
      },
      "source": [
        "## Calculate the proportion of the majority class  \n",
        "What is the proportion of people who churned?\n"
      ]
    },
    {
      "cell_type": "code",
      "execution_count": 13,
      "metadata": {
        "id": "3Ajdg2zO56Cf",
        "colab": {
          "base_uri": "https://localhost:8080/"
        },
        "outputId": "a1941a4a-80ff-4852-e9a4-50396662b1f9"
      },
      "outputs": [
        {
          "output_type": "execute_result",
          "data": {
            "text/plain": [
              "0.4941930316379656"
            ]
          },
          "metadata": {},
          "execution_count": 13
        }
      ],
      "source": [
        "sum(mtc_clean['leave']==\"LEAVE\") / len(mtc_clean)"
      ]
    },
    {
      "cell_type": "markdown",
      "source": [
        "Explanation of code:\n",
        "\n",
        "- `mtc_clean['leave']`: Selects the `leave` column from the DataFrame\n",
        "- `mtc_clean['leave']==\"LEAVE\"`: Creates a boolean mask where True indicates \"LEAVE\"\n",
        "- `sum(...)`: Counts the number of True values (i.e., \"LEAVE\" occurrences)\n",
        "- `len(mtc_clean)`: Gives the total number of entries in the data\n",
        "- `/`: Divides the count of \"LEAVE\" by the total count\n",
        "- Output: A float between 0 and 1 representing the proportion of customers who left"
      ],
      "metadata": {
        "id": "hhXSd-op9og4"
      }
    },
    {
      "cell_type": "markdown",
      "source": [
        "This means the majority class is 1 - .494 = 50.6% or about 51%."
      ],
      "metadata": {
        "id": "_gUGWUIH7GSP"
      }
    },
    {
      "cell_type": "markdown",
      "source": [
        "Why should we care about this proportion?\n",
        "\n",
        "The majority class in the target variable will serve as an important benchmark for model performance. If we used what we'll call a \"majority class classifier\"---this consists in always predicting the majority class, which in this case is `STAY`---we would be correct 1 - .49 or 51% of the time.  Another way of saying this is that majority class classifier in the MegaTelCo case would result in accuracy of .51.  \n",
        "\n",
        "Accuracy is defined as the proportion of correctly predicted labels. It is a commonly used error metric for evaluating classifier performance.\n",
        "\n",
        "**Whatever later model we develop should have better accuracy than this performance benchmark.**"
      ],
      "metadata": {
        "id": "PBUEVVQz7G6n"
      }
    },
    {
      "cell_type": "markdown",
      "metadata": {
        "id": "SoJLJMlceORN"
      },
      "source": [
        "## Fit a basic tree model\n",
        "\n",
        "Use just one variable, `income`. This is a very simple tree we'll call the \"money tree.\"\n",
        "\n"
      ]
    },
    {
      "cell_type": "code",
      "execution_count": 9,
      "metadata": {
        "id": "1Vw085TGtcrB"
      },
      "outputs": [],
      "source": [
        "# Step 1:  Initialize model, specifying\n",
        "# 1. split criterion is entropy\n",
        "# 2. max_depth = 2\n",
        "\n",
        "money_tree = DecisionTreeClassifier(criterion = \"entropy\", max_depth = 2)"
      ]
    },
    {
      "cell_type": "markdown",
      "source": [
        "Explanation of code:\n",
        "\n",
        "- `DecisionTreeClassifier()`: Creates an instance of the decision tree classifier from scikit-learn\n",
        "- `criterion=\"entropy\"`: Specifies the function to measure the quality of a split (entropy measures the impurity of the split)\n",
        "- `max_depth=2`: Limits the tree to a maximum depth of 2 levels, controlling complexity and preventing overfitting\n",
        "- Output: Returns a configured decision tree classifier object, ready to be fitted with data\n"
      ],
      "metadata": {
        "id": "k6SUiB_x-tvW"
      }
    },
    {
      "cell_type": "code",
      "source": [
        "# Step 2: Create Decision Tree Classifer, specifying\n",
        "# 1. X (the predictor set) as income\n",
        "# 2. y (the target) as leave\n",
        "\n",
        "money_tree = money_tree.fit(X = mtc_clean[['income']],\n",
        "                            y = mtc_clean['leave'])"
      ],
      "metadata": {
        "id": "yzCaZ2Ud0Dmz"
      },
      "execution_count": 14,
      "outputs": []
    },
    {
      "cell_type": "markdown",
      "source": [
        "Explanation of code:\n",
        "\n",
        "- `money_tree.fit()`: Trains the decision tree classifier on the provided data\n",
        "- `X = mtc_clean[['income']]`: Input feature, selecting only the `income` column as a DataFrame\n",
        "- `y = mtc_clean['leave']`: Target variable, the `leave` column containing the class labels\n",
        "- Output: Returns the fitted decision tree model, now trained on the income data to predict customer churn\n"
      ],
      "metadata": {
        "id": "UwkbiKj8-77f"
      }
    },
    {
      "cell_type": "code",
      "source": [
        "# Step 3: Visualize the money tree model\n",
        "plot_tree(money_tree,\n",
        "          feature_names=['income'],\n",
        "          class_names=['STAY', 'LEAVE'],\n",
        "          filled=True)"
      ],
      "metadata": {
        "id": "SBmTomoI0vqT",
        "colab": {
          "base_uri": "https://localhost:8080/",
          "height": 527
        },
        "outputId": "5837968a-1e60-45f2-f179-27636deb56e9"
      },
      "execution_count": 11,
      "outputs": [
        {
          "output_type": "execute_result",
          "data": {
            "text/plain": [
              "[Text(0.5, 0.8333333333333334, 'income <= 99993.0\\nentropy = 1.0\\nsamples = 4994\\nvalue = [2468, 2526]\\nclass = LEAVE'),\n",
              " Text(0.25, 0.5, 'income <= 20181.0\\nentropy = 0.991\\nsamples = 3303\\nvalue = [1468, 1835]\\nclass = LEAVE'),\n",
              " Text(0.125, 0.16666666666666666, 'entropy = 0.0\\nsamples = 8\\nvalue = [0, 8]\\nclass = LEAVE'),\n",
              " Text(0.375, 0.16666666666666666, 'entropy = 0.991\\nsamples = 3295\\nvalue = [1468, 1827]\\nclass = LEAVE'),\n",
              " Text(0.75, 0.5, 'income <= 159576.0\\nentropy = 0.976\\nsamples = 1691\\nvalue = [1000, 691]\\nclass = STAY'),\n",
              " Text(0.625, 0.16666666666666666, 'entropy = 0.977\\nsamples = 1680\\nvalue = [989, 691]\\nclass = STAY'),\n",
              " Text(0.875, 0.16666666666666666, 'entropy = 0.0\\nsamples = 11\\nvalue = [11, 0]\\nclass = STAY')]"
            ]
          },
          "metadata": {},
          "execution_count": 11
        },
        {
          "output_type": "display_data",
          "data": {
            "text/plain": [
              "<Figure size 640x480 with 1 Axes>"
            ],
            "image/png": "[encoded data removed]"
          },
          "metadata": {}
        }
      ]
    },
    {
      "cell_type": "markdown",
      "source": [
        "Explanation of code:\n",
        "\n",
        "- `plot_tree()`: Function from scikit-learn to visualize the decision tree\n",
        "- `money_tree`: The fitted decision tree model to be visualized\n",
        "- `feature_names=['income']`: Labels the feature as `income` in the tree diagram\n",
        "- `class_names=['STAY', 'LEAVE']`: Specifies the names for the target classes in the visualization\n",
        "- `filled=True`: Colorizes the nodes based on the majority class at each node\n"
      ],
      "metadata": {
        "id": "cDiScO_z_Jr_"
      }
    },
    {
      "cell_type": "markdown",
      "source": [
        "This plot is a bit confusing!  Here is an interpretive guide.\n",
        "\n",
        "1. **Root Node (Top)**:\n",
        "   - Split: income <= 99993.0\n",
        "   - Samples: 4994\n",
        "   - Initial prediction: LEAVE\n",
        "\n",
        "2. **Second Level**:\n",
        "   - Left Branch (income <= 20181.0):\n",
        "     - Samples: 3303\n",
        "     - Prediction: LEAVE\n",
        "   - Right Branch (20181.0 < income <= 159576.0):\n",
        "     - Samples: 1691\n",
        "     - Prediction: STAY\n",
        "\n",
        "3. **Third Level (Leaf Nodes)**:\n",
        "   - Far Left (income <= 20181.0):\n",
        "     - Samples: 8\n",
        "     - Prediction: LEAVE (high certainty, entropy = 0.0)\n",
        "   - Middle Left (20181.0 < income <= 99993.0):\n",
        "     - Samples: 3295\n",
        "     - Prediction: LEAVE (with uncertainty, entropy = 0.991)\n",
        "   - Middle Right (99993.0 < income <= 159576.0):\n",
        "     - Samples: 1680\n",
        "     - Prediction: STAY (with uncertainty, entropy = 0.977)\n",
        "   - Far Right (income > 159576.0):\n",
        "     - Samples: 11\n",
        "     - Prediction: STAY (high certainty, entropy = 0.0)\n",
        "\n"
      ],
      "metadata": {
        "id": "IbW4AjDb2jRr"
      }
    },
    {
      "cell_type": "markdown",
      "metadata": {
        "id": "sSNfQKZA3jg2"
      },
      "source": [
        "## Check Accuracy\n",
        "\n",
        "What is the accuracy of the money_tree?\n"
      ]
    },
    {
      "cell_type": "code",
      "execution_count": 15,
      "metadata": {
        "id": "eVOSIP8SeYg3",
        "colab": {
          "base_uri": "https://localhost:8080/"
        },
        "outputId": "dbb0945e-5fd5-4c27-aa3e-0983d74c4745"
      },
      "outputs": [
        {
          "output_type": "execute_result",
          "data": {
            "text/plain": [
              "array(['STAY', 'STAY', 'STAY', ..., 'STAY', 'STAY', 'LEAVE'], dtype=object)"
            ]
          },
          "metadata": {},
          "execution_count": 15
        }
      ],
      "source": [
        "# 1. Generate predictions from the model for the training data\n",
        "money_tree.predict(X = mtc_clean[['income']])"
      ]
    },
    {
      "cell_type": "markdown",
      "source": [
        "Explanation of code:\n",
        "\n",
        "- `money_tree.predict()`: Method to make predictions using the trained decision tree model\n",
        "- `X = mtc_clean[['income']]`: Input data for prediction, using only the `income` column from the DataFrame\n",
        "- Output: Returns an array of predicted class labels ('STAY' or 'LEAVE') for each row in the input data\n"
      ],
      "metadata": {
        "id": "jXLkeMZL_zl3"
      }
    },
    {
      "cell_type": "code",
      "source": [
        "# 1. Generate predictions from the model for the training data\n",
        "pred = money_tree.predict(X = mtc_clean[['income']]) # Assign the result to the variable 'pred'\n",
        "\n",
        "# 2. Calculate accuracy as the proportion of correct predictions\n",
        "sum(pred == mtc_clean['leave']) / len(pred)"
      ],
      "metadata": {
        "id": "3--rlxGz4Ijb",
        "colab": {
          "base_uri": "https://localhost:8080/"
        },
        "outputId": "22933b8e-4365-4aae-df73-7d3a95fef0dd"
      },
      "execution_count": 19,
      "outputs": [
        {
          "output_type": "execute_result",
          "data": {
            "text/plain": [
              "0.5676812174609531"
            ]
          },
          "metadata": {},
          "execution_count": 19
        }
      ]
    },
    {
      "cell_type": "markdown",
      "source": [
        "Explanation of code:\n",
        "\n",
        "- `pred == mtc_clean['leave']`: Creates a boolean array comparing predictions to actual values\n",
        "- `sum(...)`: Counts the number of correct predictions (True values in the boolean array)\n",
        "- `len(pred)`: Gets the total number of predictions made\n",
        "- `/`: Divides to calculate the proportion of correct predictions\n",
        "- Output: Returns a float between 0 and 1 representing the accuracy of the model\n"
      ],
      "metadata": {
        "id": "PyDwRouVABSk"
      }
    },
    {
      "cell_type": "markdown",
      "source": [
        "So, this is better than the accuracy of the majority class classifier, which was our benchmark.  Success!\n",
        "\n",
        "We can definitely improve on this result by creating a more complicated model. We will do that tomorrow."
      ],
      "metadata": {
        "id": "72FK7HoX9I-r"
      }
    }
  ],
  "metadata": {
    "colab": {
      "provenance": [],
      "include_colab_link": true
    },
    "kernelspec": {
      "display_name": "Python 3",
      "name": "python3"
    },
    "language_info": {
      "name": "python"
    }
  },
  "nbformat": 4,
  "nbformat_minor": 0
}