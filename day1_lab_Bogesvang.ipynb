{
  "cells": [
    {
      "cell_type": "markdown",
      "metadata": {
        "id": "view-in-github",
        "colab_type": "text"
      },
      "source": [
        "<a href=\"https://colab.research.google.com/github/Logan-Bogesvang/IS_4487_Tokyo/blob/main/day1_lab_Bogesvang.ipynb\" target=\"_parent\"><img src=\"https://colab.research.google.com/assets/colab-badge.svg\" alt=\"Open In Colab\"/></a>"
      ]
    },
    {
      "cell_type": "markdown",
      "source": [
        "# Day 1 Lab: Intro to Pandas"
      ],
      "metadata": {
        "id": "rt9qQ5chFbEy"
      },
      "id": "rt9qQ5chFbEy"
    },
    {
      "cell_type": "markdown",
      "metadata": {
        "id": "8cfae8af"
      },
      "source": [
        "Outline\n",
        "\n",
        "- Introduction to Pandas\n",
        "- Working with data in Pandas\n",
        "- Visualizing data in Pandas\n",
        "\n",
        "\n",
        "\n",
        "\n",
        "\n",
        "\n"
      ],
      "id": "8cfae8af"
    },
    {
      "cell_type": "markdown",
      "source": [
        "# Notebook Instructions\n",
        "\n",
        "1. Save a copy of the forked notebook to Google Drive (File >> Save a copy in Drive).  This is the only way you'll be able to save your changes.\n",
        "2. Make sure to retitle the copy.  The title should include the **lab number** and **your name**.\n",
        "3. Do the Python coding as directed below (look for the \"Your Turn\" sections).\n",
        "4. When you have completed your coding save your notebook in Drive (File >> Save) and save it also to your GitHub repo (File >> Save a copy in github).\n",
        "5. Navigate to your notebook file in GitHub and copy and submit the URL for the Canvas lab assignment."
      ],
      "metadata": {
        "id": "7ki69Ur-3Ezw"
      },
      "id": "7ki69Ur-3Ezw"
    },
    {
      "cell_type": "markdown",
      "source": [
        "# Introduction to Pandas\n",
        "\n",
        "Pandas is a powerful data manipulation library in Python. It provides data structures and functions that make working with structured data more convenient and efficient compared to base Python."
      ],
      "metadata": {
        "id": "k_rnGv9CvSoV"
      },
      "id": "k_rnGv9CvSoV"
    },
    {
      "cell_type": "markdown",
      "metadata": {
        "id": "bdcd46ee"
      },
      "source": [
        "Pandas introduces two primary data structures: **Series** and **DataFrames**.\n",
        "- A Series is a one-dimensional collection of values ( the elements must be the same data type).\n",
        "- A DataFrame is a two-dimensional data structure with columns of potentially different types. It is similar to a spreadsheet.\n",
        "\n",
        "Pandas provides a wide range of functions and methods for data manipulation, cleaning, filtering, aggregation, merging, and more. It integrates well with other libraries in the data science ecosystem, such as Matplotlib for data visualization.\n",
        "\n",
        "Some key advantages of using Pandas over base Python include:\n",
        "- Efficient memory usage and performance for large datasets\n",
        "- Intuitive syntax for data manipulation\n",
        "- Built-in functions for common data operations (e.g., filtering, grouping, reshaping)\n",
        "- Seamless integration with other data science libraries\n",
        "- Handling of missing data and data alignment\n",
        "- Powerful tools for data exploration and analysis\n",
        "\n",
        "Throughout this lab, we will explore various aspects of Pandas and its capabilities for data manipulation, visualization and analysis.\n",
        "\n"
      ],
      "id": "bdcd46ee"
    },
    {
      "cell_type": "markdown",
      "source": [
        "# Working with Data Using Pandas"
      ],
      "metadata": {
        "id": "OtrOXQGe5MfO"
      },
      "id": "OtrOXQGe5MfO"
    },
    {
      "cell_type": "markdown",
      "source": [
        "## Load Libraries\n",
        "\n",
        "In this class we will be using\n",
        "- Pandas\n",
        "- Matplotlib"
      ],
      "metadata": {
        "id": "CEcy1L5L5FTX"
      },
      "id": "CEcy1L5L5FTX"
    },
    {
      "cell_type": "code",
      "metadata": {
        "id": "1cb3d577"
      },
      "source": [
        "import pandas as pd\n",
        "import matplotlib as mpl\n",
        "import statsmodels.api as sm # This library includes the mtcars data\n"
      ],
      "id": "1cb3d577",
      "execution_count": 22,
      "outputs": []
    },
    {
      "cell_type": "markdown",
      "source": [
        "Note:  Any text preceded by a hashtag, `#`, in python is not evaluated.  We say such text is \"commented out.\" Comments are a way to make detailed notes on the code."
      ],
      "metadata": {
        "id": "9ZhWPea7Q21R"
      },
      "id": "9ZhWPea7Q21R"
    },
    {
      "cell_type": "markdown",
      "metadata": {
        "id": "ef87d266"
      },
      "source": [
        "## Getting Data into Pandas\n",
        "\n",
        "In this case we will load data from the statsmodels.org library. `mtcars` is a common practice dataset.\n"
      ],
      "id": "ef87d266"
    },
    {
      "cell_type": "code",
      "metadata": {
        "id": "04da0673"
      },
      "source": [
        "# Download data from the statsmodels API\n",
        "mtcars = sm.datasets.get_rdataset(\"mtcars\", \"datasets\", cache=True).data\n",
        "\n",
        "# Define dataset as a pandas dataframe\n",
        "df = pd.DataFrame(mtcars)\n"
      ],
      "id": "04da0673",
      "execution_count": 23,
      "outputs": []
    },
    {
      "cell_type": "markdown",
      "metadata": {
        "id": "9e844a07"
      },
      "source": [
        "## Preview Data\n",
        "\n",
        "Here is a data dictionary:\n",
        "\n",
        "|Attribute | Description |\n",
        "|---------|-----------|\n",
        "|  mpg    |Miles/(US) gallon|\n",
        "|  cyl    |Number of cylinders|\n",
        "|  disp   |Displacement (cu.in.)|\n",
        "|hp   |Gross horsepower|\n",
        "|drat |Rear axle ratio|\n",
        "|wt   |Weight (1000 lbs)|\n",
        "|qsec |1/4 mile time|\n",
        "|vs   |Engine (0 = V-shaped, 1 = straight)|\n",
        "|am   |Transmission (0 = automatic, 1 = manual)|\n",
        "|gear |Number of forward gears|\n"
      ],
      "id": "9e844a07"
    },
    {
      "cell_type": "code",
      "metadata": {
        "id": "77ef0474",
        "colab": {
          "base_uri": "https://localhost:8080/",
          "height": 237
        },
        "outputId": "301ae15e-b224-4cb8-ca44-36fcaf510a23"
      },
      "source": [
        "#look at the top rows with head()\n",
        "df.head()"
      ],
      "id": "77ef0474",
      "execution_count": 24,
      "outputs": [
        {
          "output_type": "execute_result",
          "data": {
            "text/plain": [
              "                    mpg  cyl   disp   hp  drat     wt   qsec  vs  am  gear  \\\n",
              "rownames                                                                     \n",
              "Mazda RX4          21.0    6  160.0  110  3.90  2.620  16.46   0   1     4   \n",
              "Mazda RX4 Wag      21.0    6  160.0  110  3.90  2.875  17.02   0   1     4   \n",
              "Datsun 710         22.8    4  108.0   93  3.85  2.320  18.61   1   1     4   \n",
              "Hornet 4 Drive     21.4    6  258.0  110  3.08  3.215  19.44   1   0     3   \n",
              "Hornet Sportabout  18.7    8  360.0  175  3.15  3.440  17.02   0   0     3   \n",
              "\n",
              "                   carb  \n",
              "rownames                 \n",
              "Mazda RX4             4  \n",
              "Mazda RX4 Wag         4  \n",
              "Datsun 710            1  \n",
              "Hornet 4 Drive        1  \n",
              "Hornet Sportabout     2  "
            ],
            "text/html": [
              "\n",
              "  <div id=\"df-604dbcd0-7b41-4705-bb0e-f448d741cc8d\" class=\"colab-df-container\">\n",
              "    <div>\n",
              "<style scoped>\n",
              "    .dataframe tbody tr th:only-of-type {\n",
              "        vertical-align: middle;\n",
              "    }\n",
              "\n",
              "    .dataframe tbody tr th {\n",
              "        vertical-align: top;\n",
              "    }\n",
              "\n",
              "    .dataframe thead th {\n",
              "        text-align: right;\n",
              "    }\n",
              "</style>\n",
              "<table border=\"1\" class=\"dataframe\">\n",
              "  <thead>\n",
              "    <tr style=\"text-align: right;\">\n",
              "      <th></th>\n",
              "      <th>mpg</th>\n",
              "      <th>cyl</th>\n",
              "      <th>disp</th>\n",
              "      <th>hp</th>\n",
              "      <th>drat</th>\n",
              "      <th>wt</th>\n",
              "      <th>qsec</th>\n",
              "      <th>vs</th>\n",
              "      <th>am</th>\n",
              "      <th>gear</th>\n",
              "      <th>carb</th>\n",
              "    </tr>\n",
              "    <tr>\n",
              "      <th>rownames</th>\n",
              "      <th></th>\n",
              "      <th></th>\n",
              "      <th></th>\n",
              "      <th></th>\n",
              "      <th></th>\n",
              "      <th></th>\n",
              "      <th></th>\n",
              "      <th></th>\n",
              "      <th></th>\n",
              "      <th></th>\n",
              "      <th></th>\n",
              "    </tr>\n",
              "  </thead>\n",
              "  <tbody>\n",
              "    <tr>\n",
              "      <th>Mazda RX4</th>\n",
              "      <td>21.0</td>\n",
              "      <td>6</td>\n",
              "      <td>160.0</td>\n",
              "      <td>110</td>\n",
              "      <td>3.90</td>\n",
              "      <td>2.620</td>\n",
              "      <td>16.46</td>\n",
              "      <td>0</td>\n",
              "      <td>1</td>\n",
              "      <td>4</td>\n",
              "      <td>4</td>\n",
              "    </tr>\n",
              "    <tr>\n",
              "      <th>Mazda RX4 Wag</th>\n",
              "      <td>21.0</td>\n",
              "      <td>6</td>\n",
              "      <td>160.0</td>\n",
              "      <td>110</td>\n",
              "      <td>3.90</td>\n",
              "      <td>2.875</td>\n",
              "      <td>17.02</td>\n",
              "      <td>0</td>\n",
              "      <td>1</td>\n",
              "      <td>4</td>\n",
              "      <td>4</td>\n",
              "    </tr>\n",
              "    <tr>\n",
              "      <th>Datsun 710</th>\n",
              "      <td>22.8</td>\n",
              "      <td>4</td>\n",
              "      <td>108.0</td>\n",
              "      <td>93</td>\n",
              "      <td>3.85</td>\n",
              "      <td>2.320</td>\n",
              "      <td>18.61</td>\n",
              "      <td>1</td>\n",
              "      <td>1</td>\n",
              "      <td>4</td>\n",
              "      <td>1</td>\n",
              "    </tr>\n",
              "    <tr>\n",
              "      <th>Hornet 4 Drive</th>\n",
              "      <td>21.4</td>\n",
              "      <td>6</td>\n",
              "      <td>258.0</td>\n",
              "      <td>110</td>\n",
              "      <td>3.08</td>\n",
              "      <td>3.215</td>\n",
              "      <td>19.44</td>\n",
              "      <td>1</td>\n",
              "      <td>0</td>\n",
              "      <td>3</td>\n",
              "      <td>1</td>\n",
              "    </tr>\n",
              "    <tr>\n",
              "      <th>Hornet Sportabout</th>\n",
              "      <td>18.7</td>\n",
              "      <td>8</td>\n",
              "      <td>360.0</td>\n",
              "      <td>175</td>\n",
              "      <td>3.15</td>\n",
              "      <td>3.440</td>\n",
              "      <td>17.02</td>\n",
              "      <td>0</td>\n",
              "      <td>0</td>\n",
              "      <td>3</td>\n",
              "      <td>2</td>\n",
              "    </tr>\n",
              "  </tbody>\n",
              "</table>\n",
              "</div>\n",
              "    <div class=\"colab-df-buttons\">\n",
              "\n",
              "  <div class=\"colab-df-container\">\n",
              "    <button class=\"colab-df-convert\" onclick=\"convertToInteractive('df-604dbcd0-7b41-4705-bb0e-f448d741cc8d')\"\n",
              "            title=\"Convert this dataframe to an interactive table.\"\n",
              "            style=\"display:none;\">\n",
              "\n",
              "  <svg xmlns=\"http://www.w3.org/2000/svg\" height=\"24px\" viewBox=\"0 -960 960 960\">\n",
              "    <path d=\"M120-120v-720h720v720H120Zm60-500h600v-160H180v160Zm220 220h160v-160H400v160Zm0 220h160v-160H400v160ZM180-400h160v-160H180v160Zm440 0h160v-160H620v160ZM180-180h160v-160H180v160Zm440 0h160v-160H620v160Z\"/>\n",
              "  </svg>\n",
              "    </button>\n",
              "\n",
              "  <style>\n",
              "    .colab-df-container {\n",
              "      display:flex;\n",
              "      gap: 12px;\n",
              "    }\n",
              "\n",
              "    .colab-df-convert {\n",
              "      background-color: #E8F0FE;\n",
              "      border: none;\n",
              "      border-radius: 50%;\n",
              "      cursor: pointer;\n",
              "      display: none;\n",
              "      fill: #1967D2;\n",
              "      height: 32px;\n",
              "      padding: 0 0 0 0;\n",
              "      width: 32px;\n",
              "    }\n",
              "\n",
              "    .colab-df-convert:hover {\n",
              "      background-color: #E2EBFA;\n",
              "      box-shadow: 0px 1px 2px rgba(60, 64, 67, 0.3), 0px 1px 3px 1px rgba(60, 64, 67, 0.15);\n",
              "      fill: #174EA6;\n",
              "    }\n",
              "\n",
              "    .colab-df-buttons div {\n",
              "      margin-bottom: 4px;\n",
              "    }\n",
              "\n",
              "    [theme=dark] .colab-df-convert {\n",
              "      background-color: #3B4455;\n",
              "      fill: #D2E3FC;\n",
              "    }\n",
              "\n",
              "    [theme=dark] .colab-df-convert:hover {\n",
              "      background-color: #434B5C;\n",
              "      box-shadow: 0px 1px 3px 1px rgba(0, 0, 0, 0.15);\n",
              "      filter: drop-shadow(0px 1px 2px rgba(0, 0, 0, 0.3));\n",
              "      fill: #FFFFFF;\n",
              "    }\n",
              "  </style>\n",
              "\n",
              "    <script>\n",
              "      const buttonEl =\n",
              "        document.querySelector('#df-604dbcd0-7b41-4705-bb0e-f448d741cc8d button.colab-df-convert');\n",
              "      buttonEl.style.display =\n",
              "        google.colab.kernel.accessAllowed ? 'block' : 'none';\n",
              "\n",
              "      async function convertToInteractive(key) {\n",
              "        const element = document.querySelector('#df-604dbcd0-7b41-4705-bb0e-f448d741cc8d');\n",
              "        const dataTable =\n",
              "          await google.colab.kernel.invokeFunction('convertToInteractive',\n",
              "                                                    [key], {});\n",
              "        if (!dataTable) return;\n",
              "\n",
              "        const docLinkHtml = 'Like what you see? Visit the ' +\n",
              "          '<a target=\"_blank\" href=https://colab.research.google.com/notebooks/data_table.ipynb>data table notebook</a>'\n",
              "          + ' to learn more about interactive tables.';\n",
              "        element.innerHTML = '';\n",
              "        dataTable['output_type'] = 'display_data';\n",
              "        await google.colab.output.renderOutput(dataTable, element);\n",
              "        const docLink = document.createElement('div');\n",
              "        docLink.innerHTML = docLinkHtml;\n",
              "        element.appendChild(docLink);\n",
              "      }\n",
              "    </script>\n",
              "  </div>\n",
              "\n",
              "\n",
              "<div id=\"df-fba25978-5743-4268-ae15-fa46338ef021\">\n",
              "  <button class=\"colab-df-quickchart\" onclick=\"quickchart('df-fba25978-5743-4268-ae15-fa46338ef021')\"\n",
              "            title=\"Suggest charts\"\n",
              "            style=\"display:none;\">\n",
              "\n",
              "<svg xmlns=\"http://www.w3.org/2000/svg\" height=\"24px\"viewBox=\"0 0 24 24\"\n",
              "     width=\"24px\">\n",
              "    <g>\n",
              "        <path d=\"M19 3H5c-1.1 0-2 .9-2 2v14c0 1.1.9 2 2 2h14c1.1 0 2-.9 2-2V5c0-1.1-.9-2-2-2zM9 17H7v-7h2v7zm4 0h-2V7h2v10zm4 0h-2v-4h2v4z\"/>\n",
              "    </g>\n",
              "</svg>\n",
              "  </button>\n",
              "\n",
              "<style>\n",
              "  .colab-df-quickchart {\n",
              "      --bg-color: #E8F0FE;\n",
              "      --fill-color: #1967D2;\n",
              "      --hover-bg-color: #E2EBFA;\n",
              "      --hover-fill-color: #174EA6;\n",
              "      --disabled-fill-color: #AAA;\n",
              "      --disabled-bg-color: #DDD;\n",
              "  }\n",
              "\n",
              "  [theme=dark] .colab-df-quickchart {\n",
              "      --bg-color: #3B4455;\n",
              "      --fill-color: #D2E3FC;\n",
              "      --hover-bg-color: #434B5C;\n",
              "      --hover-fill-color: #FFFFFF;\n",
              "      --disabled-bg-color: #3B4455;\n",
              "      --disabled-fill-color: #666;\n",
              "  }\n",
              "\n",
              "  .colab-df-quickchart {\n",
              "    background-color: var(--bg-color);\n",
              "    border: none;\n",
              "    border-radius: 50%;\n",
              "    cursor: pointer;\n",
              "    display: none;\n",
              "    fill: var(--fill-color);\n",
              "    height: 32px;\n",
              "    padding: 0;\n",
              "    width: 32px;\n",
              "  }\n",
              "\n",
              "  .colab-df-quickchart:hover {\n",
              "    background-color: var(--hover-bg-color);\n",
              "    box-shadow: 0 1px 2px rgba(60, 64, 67, 0.3), 0 1px 3px 1px rgba(60, 64, 67, 0.15);\n",
              "    fill: var(--button-hover-fill-color);\n",
              "  }\n",
              "\n",
              "  .colab-df-quickchart-complete:disabled,\n",
              "  .colab-df-quickchart-complete:disabled:hover {\n",
              "    background-color: var(--disabled-bg-color);\n",
              "    fill: var(--disabled-fill-color);\n",
              "    box-shadow: none;\n",
              "  }\n",
              "\n",
              "  .colab-df-spinner {\n",
              "    border: 2px solid var(--fill-color);\n",
              "    border-color: transparent;\n",
              "    border-bottom-color: var(--fill-color);\n",
              "    animation:\n",
              "      spin 1s steps(1) infinite;\n",
              "  }\n",
              "\n",
              "  @keyframes spin {\n",
              "    0% {\n",
              "      border-color: transparent;\n",
              "      border-bottom-color: var(--fill-color);\n",
              "      border-left-color: var(--fill-color);\n",
              "    }\n",
              "    20% {\n",
              "      border-color: transparent;\n",
              "      border-left-color: var(--fill-color);\n",
              "      border-top-color: var(--fill-color);\n",
              "    }\n",
              "    30% {\n",
              "      border-color: transparent;\n",
              "      border-left-color: var(--fill-color);\n",
              "      border-top-color: var(--fill-color);\n",
              "      border-right-color: var(--fill-color);\n",
              "    }\n",
              "    40% {\n",
              "      border-color: transparent;\n",
              "      border-right-color: var(--fill-color);\n",
              "      border-top-color: var(--fill-color);\n",
              "    }\n",
              "    60% {\n",
              "      border-color: transparent;\n",
              "      border-right-color: var(--fill-color);\n",
              "    }\n",
              "    80% {\n",
              "      border-color: transparent;\n",
              "      border-right-color: var(--fill-color);\n",
              "      border-bottom-color: var(--fill-color);\n",
              "    }\n",
              "    90% {\n",
              "      border-color: transparent;\n",
              "      border-bottom-color: var(--fill-color);\n",
              "    }\n",
              "  }\n",
              "</style>\n",
              "\n",
              "  <script>\n",
              "    async function quickchart(key) {\n",
              "      const quickchartButtonEl =\n",
              "        document.querySelector('#' + key + ' button');\n",
              "      quickchartButtonEl.disabled = true;  // To prevent multiple clicks.\n",
              "      quickchartButtonEl.classList.add('colab-df-spinner');\n",
              "      try {\n",
              "        const charts = await google.colab.kernel.invokeFunction(\n",
              "            'suggestCharts', [key], {});\n",
              "      } catch (error) {\n",
              "        console.error('Error during call to suggestCharts:', error);\n",
              "      }\n",
              "      quickchartButtonEl.classList.remove('colab-df-spinner');\n",
              "      quickchartButtonEl.classList.add('colab-df-quickchart-complete');\n",
              "    }\n",
              "    (() => {\n",
              "      let quickchartButtonEl =\n",
              "        document.querySelector('#df-fba25978-5743-4268-ae15-fa46338ef021 button');\n",
              "      quickchartButtonEl.style.display =\n",
              "        google.colab.kernel.accessAllowed ? 'block' : 'none';\n",
              "    })();\n",
              "  </script>\n",
              "</div>\n",
              "\n",
              "    </div>\n",
              "  </div>\n"
            ],
            "application/vnd.google.colaboratory.intrinsic+json": {
              "type": "dataframe",
              "variable_name": "df",
              "summary": "{\n  \"name\": \"df\",\n  \"rows\": 32,\n  \"fields\": [\n    {\n      \"column\": \"rownames\",\n      \"properties\": {\n        \"dtype\": \"string\",\n        \"num_unique_values\": 32,\n        \"samples\": [\n          \"Ferrari Dino\",\n          \"Lincoln Continental\",\n          \"Pontiac Firebird\"\n        ],\n        \"semantic_type\": \"\",\n        \"description\": \"\"\n      }\n    },\n    {\n      \"column\": \"mpg\",\n      \"properties\": {\n        \"dtype\": \"number\",\n        \"std\": 6.026948052089104,\n        \"min\": 10.4,\n        \"max\": 33.9,\n        \"num_unique_values\": 25,\n        \"samples\": [\n          17.8,\n          33.9,\n          21.0\n        ],\n        \"semantic_type\": \"\",\n        \"description\": \"\"\n      }\n    },\n    {\n      \"column\": \"cyl\",\n      \"properties\": {\n        \"dtype\": \"number\",\n        \"std\": 1,\n        \"min\": 4,\n        \"max\": 8,\n        \"num_unique_values\": 3,\n        \"samples\": [\n          6,\n          4,\n          8\n        ],\n        \"semantic_type\": \"\",\n        \"description\": \"\"\n      }\n    },\n    {\n      \"column\": \"disp\",\n      \"properties\": {\n        \"dtype\": \"number\",\n        \"std\": 123.93869383138194,\n        \"min\": 71.1,\n        \"max\": 472.0,\n        \"num_unique_values\": 27,\n        \"samples\": [\n          275.8,\n          75.7,\n          472.0\n        ],\n        \"semantic_type\": \"\",\n        \"description\": \"\"\n      }\n    },\n    {\n      \"column\": \"hp\",\n      \"properties\": {\n        \"dtype\": \"number\",\n        \"std\": 68,\n        \"min\": 52,\n        \"max\": 335,\n        \"num_unique_values\": 22,\n        \"samples\": [\n          110,\n          52,\n          180\n        ],\n        \"semantic_type\": \"\",\n        \"description\": \"\"\n      }\n    },\n    {\n      \"column\": \"drat\",\n      \"properties\": {\n        \"dtype\": \"number\",\n        \"std\": 0.5346787360709715,\n        \"min\": 2.76,\n        \"max\": 4.93,\n        \"num_unique_values\": 22,\n        \"samples\": [\n          3.9,\n          4.93,\n          3.07\n        ],\n        \"semantic_type\": \"\",\n        \"description\": \"\"\n      }\n    },\n    {\n      \"column\": \"wt\",\n      \"properties\": {\n        \"dtype\": \"number\",\n        \"std\": 0.9784574429896966,\n        \"min\": 1.513,\n        \"max\": 5.424,\n        \"num_unique_values\": 29,\n        \"samples\": [\n          2.77,\n          1.615,\n          5.25\n        ],\n        \"semantic_type\": \"\",\n        \"description\": \"\"\n      }\n    },\n    {\n      \"column\": \"qsec\",\n      \"properties\": {\n        \"dtype\": \"number\",\n        \"std\": 1.7869432360968431,\n        \"min\": 14.5,\n        \"max\": 22.9,\n        \"num_unique_values\": 30,\n        \"samples\": [\n          15.5,\n          17.42,\n          17.05\n        ],\n        \"semantic_type\": \"\",\n        \"description\": \"\"\n      }\n    },\n    {\n      \"column\": \"vs\",\n      \"properties\": {\n        \"dtype\": \"number\",\n        \"std\": 0,\n        \"min\": 0,\n        \"max\": 1,\n        \"num_unique_values\": 2,\n        \"samples\": [\n          1,\n          0\n        ],\n        \"semantic_type\": \"\",\n        \"description\": \"\"\n      }\n    },\n    {\n      \"column\": \"am\",\n      \"properties\": {\n        \"dtype\": \"number\",\n        \"std\": 0,\n        \"min\": 0,\n        \"max\": 1,\n        \"num_unique_values\": 2,\n        \"samples\": [\n          0,\n          1\n        ],\n        \"semantic_type\": \"\",\n        \"description\": \"\"\n      }\n    },\n    {\n      \"column\": \"gear\",\n      \"properties\": {\n        \"dtype\": \"number\",\n        \"std\": 0,\n        \"min\": 3,\n        \"max\": 5,\n        \"num_unique_values\": 3,\n        \"samples\": [\n          4,\n          3\n        ],\n        \"semantic_type\": \"\",\n        \"description\": \"\"\n      }\n    },\n    {\n      \"column\": \"carb\",\n      \"properties\": {\n        \"dtype\": \"number\",\n        \"std\": 1,\n        \"min\": 1,\n        \"max\": 8,\n        \"num_unique_values\": 6,\n        \"samples\": [\n          4,\n          1\n        ],\n        \"semantic_type\": \"\",\n        \"description\": \"\"\n      }\n    }\n  ]\n}"
            }
          },
          "metadata": {},
          "execution_count": 24
        }
      ]
    },
    {
      "cell_type": "markdown",
      "source": [
        "To get information on a function (such as arguments and examples) use the `help()` function:\n",
        "\n"
      ],
      "metadata": {
        "id": "0ubL2y-JGuwe"
      },
      "id": "0ubL2y-JGuwe"
    },
    {
      "cell_type": "code",
      "source": [
        "help(df.head)"
      ],
      "metadata": {
        "id": "7CBLqD9MGaqE",
        "colab": {
          "base_uri": "https://localhost:8080/"
        },
        "outputId": "0ddab1cf-4dd3-4fde-e4eb-1b65e8569ea8"
      },
      "id": "7CBLqD9MGaqE",
      "execution_count": 25,
      "outputs": [
        {
          "output_type": "stream",
          "name": "stdout",
          "text": [
            "Help on method head in module pandas.core.generic:\n",
            "\n",
            "head(n: 'int' = 5) -> 'NDFrameT' method of pandas.core.frame.DataFrame instance\n",
            "    Return the first `n` rows.\n",
            "    \n",
            "    This function returns the first `n` rows for the object based\n",
            "    on position. It is useful for quickly testing if your object\n",
            "    has the right type of data in it.\n",
            "    \n",
            "    For negative values of `n`, this function returns all rows except\n",
            "    the last `|n|` rows, equivalent to ``df[:n]``.\n",
            "    \n",
            "    If n is larger than the number of rows, this function returns all rows.\n",
            "    \n",
            "    Parameters\n",
            "    ----------\n",
            "    n : int, default 5\n",
            "        Number of rows to select.\n",
            "    \n",
            "    Returns\n",
            "    -------\n",
            "    same type as caller\n",
            "        The first `n` rows of the caller object.\n",
            "    \n",
            "    See Also\n",
            "    --------\n",
            "    DataFrame.tail: Returns the last `n` rows.\n",
            "    \n",
            "    Examples\n",
            "    --------\n",
            "    >>> df = pd.DataFrame({'animal': ['alligator', 'bee', 'falcon', 'lion',\n",
            "    ...                    'monkey', 'parrot', 'shark', 'whale', 'zebra']})\n",
            "    >>> df\n",
            "          animal\n",
            "    0  alligator\n",
            "    1        bee\n",
            "    2     falcon\n",
            "    3       lion\n",
            "    4     monkey\n",
            "    5     parrot\n",
            "    6      shark\n",
            "    7      whale\n",
            "    8      zebra\n",
            "    \n",
            "    Viewing the first 5 lines\n",
            "    \n",
            "    >>> df.head()\n",
            "          animal\n",
            "    0  alligator\n",
            "    1        bee\n",
            "    2     falcon\n",
            "    3       lion\n",
            "    4     monkey\n",
            "    \n",
            "    Viewing the first `n` lines (three in this case)\n",
            "    \n",
            "    >>> df.head(3)\n",
            "          animal\n",
            "    0  alligator\n",
            "    1        bee\n",
            "    2     falcon\n",
            "    \n",
            "    For negative values of `n`\n",
            "    \n",
            "    >>> df.head(-3)\n",
            "          animal\n",
            "    0  alligator\n",
            "    1        bee\n",
            "    2     falcon\n",
            "    3       lion\n",
            "    4     monkey\n",
            "    5     parrot\n",
            "\n"
          ]
        }
      ]
    },
    {
      "cell_type": "markdown",
      "source": [
        "As we can see, this function has a single argument, `n`, with a default setting of 5.  `n` defines how many rows to return."
      ],
      "metadata": {
        "id": "BMolfzmfRmvB"
      },
      "id": "BMolfzmfRmvB"
    },
    {
      "cell_type": "code",
      "metadata": {
        "id": "5e4c87b7",
        "colab": {
          "base_uri": "https://localhost:8080/",
          "height": 394
        },
        "outputId": "161142c5-d939-4822-cd05-062caf6ed62a"
      },
      "source": [
        "#look at last rows with tail().\n",
        "# The default for n is again 5.\n",
        "\n",
        "df.tail(n = 10)"
      ],
      "id": "5e4c87b7",
      "execution_count": 26,
      "outputs": [
        {
          "output_type": "execute_result",
          "data": {
            "text/plain": [
              "                   mpg  cyl   disp   hp  drat     wt   qsec  vs  am  gear  \\\n",
              "rownames                                                                    \n",
              "AMC Javelin       15.2    8  304.0  150  3.15  3.435  17.30   0   0     3   \n",
              "Camaro Z28        13.3    8  350.0  245  3.73  3.840  15.41   0   0     3   \n",
              "Pontiac Firebird  19.2    8  400.0  175  3.08  3.845  17.05   0   0     3   \n",
              "Fiat X1-9         27.3    4   79.0   66  4.08  1.935  18.90   1   1     4   \n",
              "Porsche 914-2     26.0    4  120.3   91  4.43  2.140  16.70   0   1     5   \n",
              "Lotus Europa      30.4    4   95.1  113  3.77  1.513  16.90   1   1     5   \n",
              "Ford Pantera L    15.8    8  351.0  264  4.22  3.170  14.50   0   1     5   \n",
              "Ferrari Dino      19.7    6  145.0  175  3.62  2.770  15.50   0   1     5   \n",
              "Maserati Bora     15.0    8  301.0  335  3.54  3.570  14.60   0   1     5   \n",
              "Volvo 142E        21.4    4  121.0  109  4.11  2.780  18.60   1   1     4   \n",
              "\n",
              "                  carb  \n",
              "rownames                \n",
              "AMC Javelin          2  \n",
              "Camaro Z28           4  \n",
              "Pontiac Firebird     2  \n",
              "Fiat X1-9            1  \n",
              "Porsche 914-2        2  \n",
              "Lotus Europa         2  \n",
              "Ford Pantera L       4  \n",
              "Ferrari Dino         6  \n",
              "Maserati Bora        8  \n",
              "Volvo 142E           2  "
            ],
            "text/html": [
              "\n",
              "  <div id=\"df-a653905c-f3c8-47e1-83d3-b9b6bc1971a2\" class=\"colab-df-container\">\n",
              "    <div>\n",
              "<style scoped>\n",
              "    .dataframe tbody tr th:only-of-type {\n",
              "        vertical-align: middle;\n",
              "    }\n",
              "\n",
              "    .dataframe tbody tr th {\n",
              "        vertical-align: top;\n",
              "    }\n",
              "\n",
              "    .dataframe thead th {\n",
              "        text-align: right;\n",
              "    }\n",
              "</style>\n",
              "<table border=\"1\" class=\"dataframe\">\n",
              "  <thead>\n",
              "    <tr style=\"text-align: right;\">\n",
              "      <th></th>\n",
              "      <th>mpg</th>\n",
              "      <th>cyl</th>\n",
              "      <th>disp</th>\n",
              "      <th>hp</th>\n",
              "      <th>drat</th>\n",
              "      <th>wt</th>\n",
              "      <th>qsec</th>\n",
              "      <th>vs</th>\n",
              "      <th>am</th>\n",
              "      <th>gear</th>\n",
              "      <th>carb</th>\n",
              "    </tr>\n",
              "    <tr>\n",
              "      <th>rownames</th>\n",
              "      <th></th>\n",
              "      <th></th>\n",
              "      <th></th>\n",
              "      <th></th>\n",
              "      <th></th>\n",
              "      <th></th>\n",
              "      <th></th>\n",
              "      <th></th>\n",
              "      <th></th>\n",
              "      <th></th>\n",
              "      <th></th>\n",
              "    </tr>\n",
              "  </thead>\n",
              "  <tbody>\n",
              "    <tr>\n",
              "      <th>AMC Javelin</th>\n",
              "      <td>15.2</td>\n",
              "      <td>8</td>\n",
              "      <td>304.0</td>\n",
              "      <td>150</td>\n",
              "      <td>3.15</td>\n",
              "      <td>3.435</td>\n",
              "      <td>17.30</td>\n",
              "      <td>0</td>\n",
              "      <td>0</td>\n",
              "      <td>3</td>\n",
              "      <td>2</td>\n",
              "    </tr>\n",
              "    <tr>\n",
              "      <th>Camaro Z28</th>\n",
              "      <td>13.3</td>\n",
              "      <td>8</td>\n",
              "      <td>350.0</td>\n",
              "      <td>245</td>\n",
              "      <td>3.73</td>\n",
              "      <td>3.840</td>\n",
              "      <td>15.41</td>\n",
              "      <td>0</td>\n",
              "      <td>0</td>\n",
              "      <td>3</td>\n",
              "      <td>4</td>\n",
              "    </tr>\n",
              "    <tr>\n",
              "      <th>Pontiac Firebird</th>\n",
              "      <td>19.2</td>\n",
              "      <td>8</td>\n",
              "      <td>400.0</td>\n",
              "      <td>175</td>\n",
              "      <td>3.08</td>\n",
              "      <td>3.845</td>\n",
              "      <td>17.05</td>\n",
              "      <td>0</td>\n",
              "      <td>0</td>\n",
              "      <td>3</td>\n",
              "      <td>2</td>\n",
              "    </tr>\n",
              "    <tr>\n",
              "      <th>Fiat X1-9</th>\n",
              "      <td>27.3</td>\n",
              "      <td>4</td>\n",
              "      <td>79.0</td>\n",
              "      <td>66</td>\n",
              "      <td>4.08</td>\n",
              "      <td>1.935</td>\n",
              "      <td>18.90</td>\n",
              "      <td>1</td>\n",
              "      <td>1</td>\n",
              "      <td>4</td>\n",
              "      <td>1</td>\n",
              "    </tr>\n",
              "    <tr>\n",
              "      <th>Porsche 914-2</th>\n",
              "      <td>26.0</td>\n",
              "      <td>4</td>\n",
              "      <td>120.3</td>\n",
              "      <td>91</td>\n",
              "      <td>4.43</td>\n",
              "      <td>2.140</td>\n",
              "      <td>16.70</td>\n",
              "      <td>0</td>\n",
              "      <td>1</td>\n",
              "      <td>5</td>\n",
              "      <td>2</td>\n",
              "    </tr>\n",
              "    <tr>\n",
              "      <th>Lotus Europa</th>\n",
              "      <td>30.4</td>\n",
              "      <td>4</td>\n",
              "      <td>95.1</td>\n",
              "      <td>113</td>\n",
              "      <td>3.77</td>\n",
              "      <td>1.513</td>\n",
              "      <td>16.90</td>\n",
              "      <td>1</td>\n",
              "      <td>1</td>\n",
              "      <td>5</td>\n",
              "      <td>2</td>\n",
              "    </tr>\n",
              "    <tr>\n",
              "      <th>Ford Pantera L</th>\n",
              "      <td>15.8</td>\n",
              "      <td>8</td>\n",
              "      <td>351.0</td>\n",
              "      <td>264</td>\n",
              "      <td>4.22</td>\n",
              "      <td>3.170</td>\n",
              "      <td>14.50</td>\n",
              "      <td>0</td>\n",
              "      <td>1</td>\n",
              "      <td>5</td>\n",
              "      <td>4</td>\n",
              "    </tr>\n",
              "    <tr>\n",
              "      <th>Ferrari Dino</th>\n",
              "      <td>19.7</td>\n",
              "      <td>6</td>\n",
              "      <td>145.0</td>\n",
              "      <td>175</td>\n",
              "      <td>3.62</td>\n",
              "      <td>2.770</td>\n",
              "      <td>15.50</td>\n",
              "      <td>0</td>\n",
              "      <td>1</td>\n",
              "      <td>5</td>\n",
              "      <td>6</td>\n",
              "    </tr>\n",
              "    <tr>\n",
              "      <th>Maserati Bora</th>\n",
              "      <td>15.0</td>\n",
              "      <td>8</td>\n",
              "      <td>301.0</td>\n",
              "      <td>335</td>\n",
              "      <td>3.54</td>\n",
              "      <td>3.570</td>\n",
              "      <td>14.60</td>\n",
              "      <td>0</td>\n",
              "      <td>1</td>\n",
              "      <td>5</td>\n",
              "      <td>8</td>\n",
              "    </tr>\n",
              "    <tr>\n",
              "      <th>Volvo 142E</th>\n",
              "      <td>21.4</td>\n",
              "      <td>4</td>\n",
              "      <td>121.0</td>\n",
              "      <td>109</td>\n",
              "      <td>4.11</td>\n",
              "      <td>2.780</td>\n",
              "      <td>18.60</td>\n",
              "      <td>1</td>\n",
              "      <td>1</td>\n",
              "      <td>4</td>\n",
              "      <td>2</td>\n",
              "    </tr>\n",
              "  </tbody>\n",
              "</table>\n",
              "</div>\n",
              "    <div class=\"colab-df-buttons\">\n",
              "\n",
              "  <div class=\"colab-df-container\">\n",
              "    <button class=\"colab-df-convert\" onclick=\"convertToInteractive('df-a653905c-f3c8-47e1-83d3-b9b6bc1971a2')\"\n",
              "            title=\"Convert this dataframe to an interactive table.\"\n",
              "            style=\"display:none;\">\n",
              "\n",
              "  <svg xmlns=\"http://www.w3.org/2000/svg\" height=\"24px\" viewBox=\"0 -960 960 960\">\n",
              "    <path d=\"M120-120v-720h720v720H120Zm60-500h600v-160H180v160Zm220 220h160v-160H400v160Zm0 220h160v-160H400v160ZM180-400h160v-160H180v160Zm440 0h160v-160H620v160ZM180-180h160v-160H180v160Zm440 0h160v-160H620v160Z\"/>\n",
              "  </svg>\n",
              "    </button>\n",
              "\n",
              "  <style>\n",
              "    .colab-df-container {\n",
              "      display:flex;\n",
              "      gap: 12px;\n",
              "    }\n",
              "\n",
              "    .colab-df-convert {\n",
              "      background-color: #E8F0FE;\n",
              "      border: none;\n",
              "      border-radius: 50%;\n",
              "      cursor: pointer;\n",
              "      display: none;\n",
              "      fill: #1967D2;\n",
              "      height: 32px;\n",
              "      padding: 0 0 0 0;\n",
              "      width: 32px;\n",
              "    }\n",
              "\n",
              "    .colab-df-convert:hover {\n",
              "      background-color: #E2EBFA;\n",
              "      box-shadow: 0px 1px 2px rgba(60, 64, 67, 0.3), 0px 1px 3px 1px rgba(60, 64, 67, 0.15);\n",
              "      fill: #174EA6;\n",
              "    }\n",
              "\n",
              "    .colab-df-buttons div {\n",
              "      margin-bottom: 4px;\n",
              "    }\n",
              "\n",
              "    [theme=dark] .colab-df-convert {\n",
              "      background-color: #3B4455;\n",
              "      fill: #D2E3FC;\n",
              "    }\n",
              "\n",
              "    [theme=dark] .colab-df-convert:hover {\n",
              "      background-color: #434B5C;\n",
              "      box-shadow: 0px 1px 3px 1px rgba(0, 0, 0, 0.15);\n",
              "      filter: drop-shadow(0px 1px 2px rgba(0, 0, 0, 0.3));\n",
              "      fill: #FFFFFF;\n",
              "    }\n",
              "  </style>\n",
              "\n",
              "    <script>\n",
              "      const buttonEl =\n",
              "        document.querySelector('#df-a653905c-f3c8-47e1-83d3-b9b6bc1971a2 button.colab-df-convert');\n",
              "      buttonEl.style.display =\n",
              "        google.colab.kernel.accessAllowed ? 'block' : 'none';\n",
              "\n",
              "      async function convertToInteractive(key) {\n",
              "        const element = document.querySelector('#df-a653905c-f3c8-47e1-83d3-b9b6bc1971a2');\n",
              "        const dataTable =\n",
              "          await google.colab.kernel.invokeFunction('convertToInteractive',\n",
              "                                                    [key], {});\n",
              "        if (!dataTable) return;\n",
              "\n",
              "        const docLinkHtml = 'Like what you see? Visit the ' +\n",
              "          '<a target=\"_blank\" href=https://colab.research.google.com/notebooks/data_table.ipynb>data table notebook</a>'\n",
              "          + ' to learn more about interactive tables.';\n",
              "        element.innerHTML = '';\n",
              "        dataTable['output_type'] = 'display_data';\n",
              "        await google.colab.output.renderOutput(dataTable, element);\n",
              "        const docLink = document.createElement('div');\n",
              "        docLink.innerHTML = docLinkHtml;\n",
              "        element.appendChild(docLink);\n",
              "      }\n",
              "    </script>\n",
              "  </div>\n",
              "\n",
              "\n",
              "<div id=\"df-d3bae07e-4452-415a-8520-06dd6454a00c\">\n",
              "  <button class=\"colab-df-quickchart\" onclick=\"quickchart('df-d3bae07e-4452-415a-8520-06dd6454a00c')\"\n",
              "            title=\"Suggest charts\"\n",
              "            style=\"display:none;\">\n",
              "\n",
              "<svg xmlns=\"http://www.w3.org/2000/svg\" height=\"24px\"viewBox=\"0 0 24 24\"\n",
              "     width=\"24px\">\n",
              "    <g>\n",
              "        <path d=\"M19 3H5c-1.1 0-2 .9-2 2v14c0 1.1.9 2 2 2h14c1.1 0 2-.9 2-2V5c0-1.1-.9-2-2-2zM9 17H7v-7h2v7zm4 0h-2V7h2v10zm4 0h-2v-4h2v4z\"/>\n",
              "    </g>\n",
              "</svg>\n",
              "  </button>\n",
              "\n",
              "<style>\n",
              "  .colab-df-quickchart {\n",
              "      --bg-color: #E8F0FE;\n",
              "      --fill-color: #1967D2;\n",
              "      --hover-bg-color: #E2EBFA;\n",
              "      --hover-fill-color: #174EA6;\n",
              "      --disabled-fill-color: #AAA;\n",
              "      --disabled-bg-color: #DDD;\n",
              "  }\n",
              "\n",
              "  [theme=dark] .colab-df-quickchart {\n",
              "      --bg-color: #3B4455;\n",
              "      --fill-color: #D2E3FC;\n",
              "      --hover-bg-color: #434B5C;\n",
              "      --hover-fill-color: #FFFFFF;\n",
              "      --disabled-bg-color: #3B4455;\n",
              "      --disabled-fill-color: #666;\n",
              "  }\n",
              "\n",
              "  .colab-df-quickchart {\n",
              "    background-color: var(--bg-color);\n",
              "    border: none;\n",
              "    border-radius: 50%;\n",
              "    cursor: pointer;\n",
              "    display: none;\n",
              "    fill: var(--fill-color);\n",
              "    height: 32px;\n",
              "    padding: 0;\n",
              "    width: 32px;\n",
              "  }\n",
              "\n",
              "  .colab-df-quickchart:hover {\n",
              "    background-color: var(--hover-bg-color);\n",
              "    box-shadow: 0 1px 2px rgba(60, 64, 67, 0.3), 0 1px 3px 1px rgba(60, 64, 67, 0.15);\n",
              "    fill: var(--button-hover-fill-color);\n",
              "  }\n",
              "\n",
              "  .colab-df-quickchart-complete:disabled,\n",
              "  .colab-df-quickchart-complete:disabled:hover {\n",
              "    background-color: var(--disabled-bg-color);\n",
              "    fill: var(--disabled-fill-color);\n",
              "    box-shadow: none;\n",
              "  }\n",
              "\n",
              "  .colab-df-spinner {\n",
              "    border: 2px solid var(--fill-color);\n",
              "    border-color: transparent;\n",
              "    border-bottom-color: var(--fill-color);\n",
              "    animation:\n",
              "      spin 1s steps(1) infinite;\n",
              "  }\n",
              "\n",
              "  @keyframes spin {\n",
              "    0% {\n",
              "      border-color: transparent;\n",
              "      border-bottom-color: var(--fill-color);\n",
              "      border-left-color: var(--fill-color);\n",
              "    }\n",
              "    20% {\n",
              "      border-color: transparent;\n",
              "      border-left-color: var(--fill-color);\n",
              "      border-top-color: var(--fill-color);\n",
              "    }\n",
              "    30% {\n",
              "      border-color: transparent;\n",
              "      border-left-color: var(--fill-color);\n",
              "      border-top-color: var(--fill-color);\n",
              "      border-right-color: var(--fill-color);\n",
              "    }\n",
              "    40% {\n",
              "      border-color: transparent;\n",
              "      border-right-color: var(--fill-color);\n",
              "      border-top-color: var(--fill-color);\n",
              "    }\n",
              "    60% {\n",
              "      border-color: transparent;\n",
              "      border-right-color: var(--fill-color);\n",
              "    }\n",
              "    80% {\n",
              "      border-color: transparent;\n",
              "      border-right-color: var(--fill-color);\n",
              "      border-bottom-color: var(--fill-color);\n",
              "    }\n",
              "    90% {\n",
              "      border-color: transparent;\n",
              "      border-bottom-color: var(--fill-color);\n",
              "    }\n",
              "  }\n",
              "</style>\n",
              "\n",
              "  <script>\n",
              "    async function quickchart(key) {\n",
              "      const quickchartButtonEl =\n",
              "        document.querySelector('#' + key + ' button');\n",
              "      quickchartButtonEl.disabled = true;  // To prevent multiple clicks.\n",
              "      quickchartButtonEl.classList.add('colab-df-spinner');\n",
              "      try {\n",
              "        const charts = await google.colab.kernel.invokeFunction(\n",
              "            'suggestCharts', [key], {});\n",
              "      } catch (error) {\n",
              "        console.error('Error during call to suggestCharts:', error);\n",
              "      }\n",
              "      quickchartButtonEl.classList.remove('colab-df-spinner');\n",
              "      quickchartButtonEl.classList.add('colab-df-quickchart-complete');\n",
              "    }\n",
              "    (() => {\n",
              "      let quickchartButtonEl =\n",
              "        document.querySelector('#df-d3bae07e-4452-415a-8520-06dd6454a00c button');\n",
              "      quickchartButtonEl.style.display =\n",
              "        google.colab.kernel.accessAllowed ? 'block' : 'none';\n",
              "    })();\n",
              "  </script>\n",
              "</div>\n",
              "\n",
              "    </div>\n",
              "  </div>\n"
            ],
            "application/vnd.google.colaboratory.intrinsic+json": {
              "type": "dataframe",
              "summary": "{\n  \"name\": \"df\",\n  \"rows\": 10,\n  \"fields\": [\n    {\n      \"column\": \"rownames\",\n      \"properties\": {\n        \"dtype\": \"string\",\n        \"num_unique_values\": 10,\n        \"samples\": [\n          \"Maserati Bora\",\n          \"Camaro Z28\",\n          \"Lotus Europa\"\n        ],\n        \"semantic_type\": \"\",\n        \"description\": \"\"\n      }\n    },\n    {\n      \"column\": \"mpg\",\n      \"properties\": {\n        \"dtype\": \"number\",\n        \"std\": 5.865350231088791,\n        \"min\": 13.3,\n        \"max\": 30.4,\n        \"num_unique_values\": 10,\n        \"samples\": [\n          15.0,\n          13.3,\n          30.4\n        ],\n        \"semantic_type\": \"\",\n        \"description\": \"\"\n      }\n    },\n    {\n      \"column\": \"cyl\",\n      \"properties\": {\n        \"dtype\": \"number\",\n        \"std\": 1,\n        \"min\": 4,\n        \"max\": 8,\n        \"num_unique_values\": 3,\n        \"samples\": [\n          8,\n          4,\n          6\n        ],\n        \"semantic_type\": \"\",\n        \"description\": \"\"\n      }\n    },\n    {\n      \"column\": \"disp\",\n      \"properties\": {\n        \"dtype\": \"number\",\n        \"std\": 124.93740832913095,\n        \"min\": 79.0,\n        \"max\": 400.0,\n        \"num_unique_values\": 10,\n        \"samples\": [\n          301.0,\n          350.0,\n          95.1\n        ],\n        \"semantic_type\": \"\",\n        \"description\": \"\"\n      }\n    },\n    {\n      \"column\": \"hp\",\n      \"properties\": {\n        \"dtype\": \"number\",\n        \"std\": 85,\n        \"min\": 66,\n        \"max\": 335,\n        \"num_unique_values\": 9,\n        \"samples\": [\n          335,\n          245,\n          113\n        ],\n        \"semantic_type\": \"\",\n        \"description\": \"\"\n      }\n    },\n    {\n      \"column\": \"drat\",\n      \"properties\": {\n        \"dtype\": \"number\",\n        \"std\": 0.4456219124873561,\n        \"min\": 3.08,\n        \"max\": 4.43,\n        \"num_unique_values\": 10,\n        \"samples\": [\n          3.54,\n          3.73,\n          3.77\n        ],\n        \"semantic_type\": \"\",\n        \"description\": \"\"\n      }\n    },\n    {\n      \"column\": \"wt\",\n      \"properties\": {\n        \"dtype\": \"number\",\n        \"std\": 0.8197929006767501,\n        \"min\": 1.513,\n        \"max\": 3.845,\n        \"num_unique_values\": 10,\n        \"samples\": [\n          3.57,\n          3.84,\n          1.513\n        ],\n        \"semantic_type\": \"\",\n        \"description\": \"\"\n      }\n    },\n    {\n      \"column\": \"qsec\",\n      \"properties\": {\n        \"dtype\": \"number\",\n        \"std\": 1.5307746767931298,\n        \"min\": 14.5,\n        \"max\": 18.9,\n        \"num_unique_values\": 10,\n        \"samples\": [\n          14.6,\n          15.41,\n          16.9\n        ],\n        \"semantic_type\": \"\",\n        \"description\": \"\"\n      }\n    },\n    {\n      \"column\": \"vs\",\n      \"properties\": {\n        \"dtype\": \"number\",\n        \"std\": 0,\n        \"min\": 0,\n        \"max\": 1,\n        \"num_unique_values\": 2,\n        \"samples\": [\n          1,\n          0\n        ],\n        \"semantic_type\": \"\",\n        \"description\": \"\"\n      }\n    },\n    {\n      \"column\": \"am\",\n      \"properties\": {\n        \"dtype\": \"number\",\n        \"std\": 0,\n        \"min\": 0,\n        \"max\": 1,\n        \"num_unique_values\": 2,\n        \"samples\": [\n          1,\n          0\n        ],\n        \"semantic_type\": \"\",\n        \"description\": \"\"\n      }\n    },\n    {\n      \"column\": \"gear\",\n      \"properties\": {\n        \"dtype\": \"number\",\n        \"std\": 0,\n        \"min\": 3,\n        \"max\": 5,\n        \"num_unique_values\": 3,\n        \"samples\": [\n          3,\n          4\n        ],\n        \"semantic_type\": \"\",\n        \"description\": \"\"\n      }\n    },\n    {\n      \"column\": \"carb\",\n      \"properties\": {\n        \"dtype\": \"number\",\n        \"std\": 2,\n        \"min\": 1,\n        \"max\": 8,\n        \"num_unique_values\": 5,\n        \"samples\": [\n          4,\n          8\n        ],\n        \"semantic_type\": \"\",\n        \"description\": \"\"\n      }\n    }\n  ]\n}"
            }
          },
          "metadata": {},
          "execution_count": 26
        }
      ]
    },
    {
      "cell_type": "code",
      "metadata": {
        "id": "e226a10e",
        "colab": {
          "base_uri": "https://localhost:8080/",
          "height": 320
        },
        "outputId": "ca06d2b1-3f01-4b03-c62a-02002bd4e99c"
      },
      "source": [
        "# get a statistical summary of the numeric variables in a dataset\n",
        "df.describe()"
      ],
      "id": "e226a10e",
      "execution_count": 27,
      "outputs": [
        {
          "output_type": "execute_result",
          "data": {
            "text/plain": [
              "             mpg        cyl        disp          hp       drat         wt  \\\n",
              "count  32.000000  32.000000   32.000000   32.000000  32.000000  32.000000   \n",
              "mean   20.090625   6.187500  230.721875  146.687500   3.596563   3.217250   \n",
              "std     6.026948   1.785922  123.938694   68.562868   0.534679   0.978457   \n",
              "min    10.400000   4.000000   71.100000   52.000000   2.760000   1.513000   \n",
              "25%    15.425000   4.000000  120.825000   96.500000   3.080000   2.581250   \n",
              "50%    19.200000   6.000000  196.300000  123.000000   3.695000   3.325000   \n",
              "75%    22.800000   8.000000  326.000000  180.000000   3.920000   3.610000   \n",
              "max    33.900000   8.000000  472.000000  335.000000   4.930000   5.424000   \n",
              "\n",
              "            qsec         vs         am       gear     carb  \n",
              "count  32.000000  32.000000  32.000000  32.000000  32.0000  \n",
              "mean   17.848750   0.437500   0.406250   3.687500   2.8125  \n",
              "std     1.786943   0.504016   0.498991   0.737804   1.6152  \n",
              "min    14.500000   0.000000   0.000000   3.000000   1.0000  \n",
              "25%    16.892500   0.000000   0.000000   3.000000   2.0000  \n",
              "50%    17.710000   0.000000   0.000000   4.000000   2.0000  \n",
              "75%    18.900000   1.000000   1.000000   4.000000   4.0000  \n",
              "max    22.900000   1.000000   1.000000   5.000000   8.0000  "
            ],
            "text/html": [
              "\n",
              "  <div id=\"df-00ac7f3c-328a-400a-bb69-caf03dad6779\" class=\"colab-df-container\">\n",
              "    <div>\n",
              "<style scoped>\n",
              "    .dataframe tbody tr th:only-of-type {\n",
              "        vertical-align: middle;\n",
              "    }\n",
              "\n",
              "    .dataframe tbody tr th {\n",
              "        vertical-align: top;\n",
              "    }\n",
              "\n",
              "    .dataframe thead th {\n",
              "        text-align: right;\n",
              "    }\n",
              "</style>\n",
              "<table border=\"1\" class=\"dataframe\">\n",
              "  <thead>\n",
              "    <tr style=\"text-align: right;\">\n",
              "      <th></th>\n",
              "      <th>mpg</th>\n",
              "      <th>cyl</th>\n",
              "      <th>disp</th>\n",
              "      <th>hp</th>\n",
              "      <th>drat</th>\n",
              "      <th>wt</th>\n",
              "      <th>qsec</th>\n",
              "      <th>vs</th>\n",
              "      <th>am</th>\n",
              "      <th>gear</th>\n",
              "      <th>carb</th>\n",
              "    </tr>\n",
              "  </thead>\n",
              "  <tbody>\n",
              "    <tr>\n",
              "      <th>count</th>\n",
              "      <td>32.000000</td>\n",
              "      <td>32.000000</td>\n",
              "      <td>32.000000</td>\n",
              "      <td>32.000000</td>\n",
              "      <td>32.000000</td>\n",
              "      <td>32.000000</td>\n",
              "      <td>32.000000</td>\n",
              "      <td>32.000000</td>\n",
              "      <td>32.000000</td>\n",
              "      <td>32.000000</td>\n",
              "      <td>32.0000</td>\n",
              "    </tr>\n",
              "    <tr>\n",
              "      <th>mean</th>\n",
              "      <td>20.090625</td>\n",
              "      <td>6.187500</td>\n",
              "      <td>230.721875</td>\n",
              "      <td>146.687500</td>\n",
              "      <td>3.596563</td>\n",
              "      <td>3.217250</td>\n",
              "      <td>17.848750</td>\n",
              "      <td>0.437500</td>\n",
              "      <td>0.406250</td>\n",
              "      <td>3.687500</td>\n",
              "      <td>2.8125</td>\n",
              "    </tr>\n",
              "    <tr>\n",
              "      <th>std</th>\n",
              "      <td>6.026948</td>\n",
              "      <td>1.785922</td>\n",
              "      <td>123.938694</td>\n",
              "      <td>68.562868</td>\n",
              "      <td>0.534679</td>\n",
              "      <td>0.978457</td>\n",
              "      <td>1.786943</td>\n",
              "      <td>0.504016</td>\n",
              "      <td>0.498991</td>\n",
              "      <td>0.737804</td>\n",
              "      <td>1.6152</td>\n",
              "    </tr>\n",
              "    <tr>\n",
              "      <th>min</th>\n",
              "      <td>10.400000</td>\n",
              "      <td>4.000000</td>\n",
              "      <td>71.100000</td>\n",
              "      <td>52.000000</td>\n",
              "      <td>2.760000</td>\n",
              "      <td>1.513000</td>\n",
              "      <td>14.500000</td>\n",
              "      <td>0.000000</td>\n",
              "      <td>0.000000</td>\n",
              "      <td>3.000000</td>\n",
              "      <td>1.0000</td>\n",
              "    </tr>\n",
              "    <tr>\n",
              "      <th>25%</th>\n",
              "      <td>15.425000</td>\n",
              "      <td>4.000000</td>\n",
              "      <td>120.825000</td>\n",
              "      <td>96.500000</td>\n",
              "      <td>3.080000</td>\n",
              "      <td>2.581250</td>\n",
              "      <td>16.892500</td>\n",
              "      <td>0.000000</td>\n",
              "      <td>0.000000</td>\n",
              "      <td>3.000000</td>\n",
              "      <td>2.0000</td>\n",
              "    </tr>\n",
              "    <tr>\n",
              "      <th>50%</th>\n",
              "      <td>19.200000</td>\n",
              "      <td>6.000000</td>\n",
              "      <td>196.300000</td>\n",
              "      <td>123.000000</td>\n",
              "      <td>3.695000</td>\n",
              "      <td>3.325000</td>\n",
              "      <td>17.710000</td>\n",
              "      <td>0.000000</td>\n",
              "      <td>0.000000</td>\n",
              "      <td>4.000000</td>\n",
              "      <td>2.0000</td>\n",
              "    </tr>\n",
              "    <tr>\n",
              "      <th>75%</th>\n",
              "      <td>22.800000</td>\n",
              "      <td>8.000000</td>\n",
              "      <td>326.000000</td>\n",
              "      <td>180.000000</td>\n",
              "      <td>3.920000</td>\n",
              "      <td>3.610000</td>\n",
              "      <td>18.900000</td>\n",
              "      <td>1.000000</td>\n",
              "      <td>1.000000</td>\n",
              "      <td>4.000000</td>\n",
              "      <td>4.0000</td>\n",
              "    </tr>\n",
              "    <tr>\n",
              "      <th>max</th>\n",
              "      <td>33.900000</td>\n",
              "      <td>8.000000</td>\n",
              "      <td>472.000000</td>\n",
              "      <td>335.000000</td>\n",
              "      <td>4.930000</td>\n",
              "      <td>5.424000</td>\n",
              "      <td>22.900000</td>\n",
              "      <td>1.000000</td>\n",
              "      <td>1.000000</td>\n",
              "      <td>5.000000</td>\n",
              "      <td>8.0000</td>\n",
              "    </tr>\n",
              "  </tbody>\n",
              "</table>\n",
              "</div>\n",
              "    <div class=\"colab-df-buttons\">\n",
              "\n",
              "  <div class=\"colab-df-container\">\n",
              "    <button class=\"colab-df-convert\" onclick=\"convertToInteractive('df-00ac7f3c-328a-400a-bb69-caf03dad6779')\"\n",
              "            title=\"Convert this dataframe to an interactive table.\"\n",
              "            style=\"display:none;\">\n",
              "\n",
              "  <svg xmlns=\"http://www.w3.org/2000/svg\" height=\"24px\" viewBox=\"0 -960 960 960\">\n",
              "    <path d=\"M120-120v-720h720v720H120Zm60-500h600v-160H180v160Zm220 220h160v-160H400v160Zm0 220h160v-160H400v160ZM180-400h160v-160H180v160Zm440 0h160v-160H620v160ZM180-180h160v-160H180v160Zm440 0h160v-160H620v160Z\"/>\n",
              "  </svg>\n",
              "    </button>\n",
              "\n",
              "  <style>\n",
              "    .colab-df-container {\n",
              "      display:flex;\n",
              "      gap: 12px;\n",
              "    }\n",
              "\n",
              "    .colab-df-convert {\n",
              "      background-color: #E8F0FE;\n",
              "      border: none;\n",
              "      border-radius: 50%;\n",
              "      cursor: pointer;\n",
              "      display: none;\n",
              "      fill: #1967D2;\n",
              "      height: 32px;\n",
              "      padding: 0 0 0 0;\n",
              "      width: 32px;\n",
              "    }\n",
              "\n",
              "    .colab-df-convert:hover {\n",
              "      background-color: #E2EBFA;\n",
              "      box-shadow: 0px 1px 2px rgba(60, 64, 67, 0.3), 0px 1px 3px 1px rgba(60, 64, 67, 0.15);\n",
              "      fill: #174EA6;\n",
              "    }\n",
              "\n",
              "    .colab-df-buttons div {\n",
              "      margin-bottom: 4px;\n",
              "    }\n",
              "\n",
              "    [theme=dark] .colab-df-convert {\n",
              "      background-color: #3B4455;\n",
              "      fill: #D2E3FC;\n",
              "    }\n",
              "\n",
              "    [theme=dark] .colab-df-convert:hover {\n",
              "      background-color: #434B5C;\n",
              "      box-shadow: 0px 1px 3px 1px rgba(0, 0, 0, 0.15);\n",
              "      filter: drop-shadow(0px 1px 2px rgba(0, 0, 0, 0.3));\n",
              "      fill: #FFFFFF;\n",
              "    }\n",
              "  </style>\n",
              "\n",
              "    <script>\n",
              "      const buttonEl =\n",
              "        document.querySelector('#df-00ac7f3c-328a-400a-bb69-caf03dad6779 button.colab-df-convert');\n",
              "      buttonEl.style.display =\n",
              "        google.colab.kernel.accessAllowed ? 'block' : 'none';\n",
              "\n",
              "      async function convertToInteractive(key) {\n",
              "        const element = document.querySelector('#df-00ac7f3c-328a-400a-bb69-caf03dad6779');\n",
              "        const dataTable =\n",
              "          await google.colab.kernel.invokeFunction('convertToInteractive',\n",
              "                                                    [key], {});\n",
              "        if (!dataTable) return;\n",
              "\n",
              "        const docLinkHtml = 'Like what you see? Visit the ' +\n",
              "          '<a target=\"_blank\" href=https://colab.research.google.com/notebooks/data_table.ipynb>data table notebook</a>'\n",
              "          + ' to learn more about interactive tables.';\n",
              "        element.innerHTML = '';\n",
              "        dataTable['output_type'] = 'display_data';\n",
              "        await google.colab.output.renderOutput(dataTable, element);\n",
              "        const docLink = document.createElement('div');\n",
              "        docLink.innerHTML = docLinkHtml;\n",
              "        element.appendChild(docLink);\n",
              "      }\n",
              "    </script>\n",
              "  </div>\n",
              "\n",
              "\n",
              "<div id=\"df-ef13e0a1-0395-4f0c-a2b4-474d3c47f378\">\n",
              "  <button class=\"colab-df-quickchart\" onclick=\"quickchart('df-ef13e0a1-0395-4f0c-a2b4-474d3c47f378')\"\n",
              "            title=\"Suggest charts\"\n",
              "            style=\"display:none;\">\n",
              "\n",
              "<svg xmlns=\"http://www.w3.org/2000/svg\" height=\"24px\"viewBox=\"0 0 24 24\"\n",
              "     width=\"24px\">\n",
              "    <g>\n",
              "        <path d=\"M19 3H5c-1.1 0-2 .9-2 2v14c0 1.1.9 2 2 2h14c1.1 0 2-.9 2-2V5c0-1.1-.9-2-2-2zM9 17H7v-7h2v7zm4 0h-2V7h2v10zm4 0h-2v-4h2v4z\"/>\n",
              "    </g>\n",
              "</svg>\n",
              "  </button>\n",
              "\n",
              "<style>\n",
              "  .colab-df-quickchart {\n",
              "      --bg-color: #E8F0FE;\n",
              "      --fill-color: #1967D2;\n",
              "      --hover-bg-color: #E2EBFA;\n",
              "      --hover-fill-color: #174EA6;\n",
              "      --disabled-fill-color: #AAA;\n",
              "      --disabled-bg-color: #DDD;\n",
              "  }\n",
              "\n",
              "  [theme=dark] .colab-df-quickchart {\n",
              "      --bg-color: #3B4455;\n",
              "      --fill-color: #D2E3FC;\n",
              "      --hover-bg-color: #434B5C;\n",
              "      --hover-fill-color: #FFFFFF;\n",
              "      --disabled-bg-color: #3B4455;\n",
              "      --disabled-fill-color: #666;\n",
              "  }\n",
              "\n",
              "  .colab-df-quickchart {\n",
              "    background-color: var(--bg-color);\n",
              "    border: none;\n",
              "    border-radius: 50%;\n",
              "    cursor: pointer;\n",
              "    display: none;\n",
              "    fill: var(--fill-color);\n",
              "    height: 32px;\n",
              "    padding: 0;\n",
              "    width: 32px;\n",
              "  }\n",
              "\n",
              "  .colab-df-quickchart:hover {\n",
              "    background-color: var(--hover-bg-color);\n",
              "    box-shadow: 0 1px 2px rgba(60, 64, 67, 0.3), 0 1px 3px 1px rgba(60, 64, 67, 0.15);\n",
              "    fill: var(--button-hover-fill-color);\n",
              "  }\n",
              "\n",
              "  .colab-df-quickchart-complete:disabled,\n",
              "  .colab-df-quickchart-complete:disabled:hover {\n",
              "    background-color: var(--disabled-bg-color);\n",
              "    fill: var(--disabled-fill-color);\n",
              "    box-shadow: none;\n",
              "  }\n",
              "\n",
              "  .colab-df-spinner {\n",
              "    border: 2px solid var(--fill-color);\n",
              "    border-color: transparent;\n",
              "    border-bottom-color: var(--fill-color);\n",
              "    animation:\n",
              "      spin 1s steps(1) infinite;\n",
              "  }\n",
              "\n",
              "  @keyframes spin {\n",
              "    0% {\n",
              "      border-color: transparent;\n",
              "      border-bottom-color: var(--fill-color);\n",
              "      border-left-color: var(--fill-color);\n",
              "    }\n",
              "    20% {\n",
              "      border-color: transparent;\n",
              "      border-left-color: var(--fill-color);\n",
              "      border-top-color: var(--fill-color);\n",
              "    }\n",
              "    30% {\n",
              "      border-color: transparent;\n",
              "      border-left-color: var(--fill-color);\n",
              "      border-top-color: var(--fill-color);\n",
              "      border-right-color: var(--fill-color);\n",
              "    }\n",
              "    40% {\n",
              "      border-color: transparent;\n",
              "      border-right-color: var(--fill-color);\n",
              "      border-top-color: var(--fill-color);\n",
              "    }\n",
              "    60% {\n",
              "      border-color: transparent;\n",
              "      border-right-color: var(--fill-color);\n",
              "    }\n",
              "    80% {\n",
              "      border-color: transparent;\n",
              "      border-right-color: var(--fill-color);\n",
              "      border-bottom-color: var(--fill-color);\n",
              "    }\n",
              "    90% {\n",
              "      border-color: transparent;\n",
              "      border-bottom-color: var(--fill-color);\n",
              "    }\n",
              "  }\n",
              "</style>\n",
              "\n",
              "  <script>\n",
              "    async function quickchart(key) {\n",
              "      const quickchartButtonEl =\n",
              "        document.querySelector('#' + key + ' button');\n",
              "      quickchartButtonEl.disabled = true;  // To prevent multiple clicks.\n",
              "      quickchartButtonEl.classList.add('colab-df-spinner');\n",
              "      try {\n",
              "        const charts = await google.colab.kernel.invokeFunction(\n",
              "            'suggestCharts', [key], {});\n",
              "      } catch (error) {\n",
              "        console.error('Error during call to suggestCharts:', error);\n",
              "      }\n",
              "      quickchartButtonEl.classList.remove('colab-df-spinner');\n",
              "      quickchartButtonEl.classList.add('colab-df-quickchart-complete');\n",
              "    }\n",
              "    (() => {\n",
              "      let quickchartButtonEl =\n",
              "        document.querySelector('#df-ef13e0a1-0395-4f0c-a2b4-474d3c47f378 button');\n",
              "      quickchartButtonEl.style.display =\n",
              "        google.colab.kernel.accessAllowed ? 'block' : 'none';\n",
              "    })();\n",
              "  </script>\n",
              "</div>\n",
              "\n",
              "    </div>\n",
              "  </div>\n"
            ],
            "application/vnd.google.colaboratory.intrinsic+json": {
              "type": "dataframe",
              "summary": "{\n  \"name\": \"df\",\n  \"rows\": 8,\n  \"fields\": [\n    {\n      \"column\": \"mpg\",\n      \"properties\": {\n        \"dtype\": \"number\",\n        \"std\": 9.666081498312616,\n        \"min\": 6.026948052089104,\n        \"max\": 33.9,\n        \"num_unique_values\": 8,\n        \"samples\": [\n          20.090625000000003,\n          19.2,\n          32.0\n        ],\n        \"semantic_type\": \"\",\n        \"description\": \"\"\n      }\n    },\n    {\n      \"column\": \"cyl\",\n      \"properties\": {\n        \"dtype\": \"number\",\n        \"std\": 9.632087040247756,\n        \"min\": 1.7859216469465444,\n        \"max\": 32.0,\n        \"num_unique_values\": 6,\n        \"samples\": [\n          32.0,\n          6.1875,\n          8.0\n        ],\n        \"semantic_type\": \"\",\n        \"description\": \"\"\n      }\n    },\n    {\n      \"column\": \"disp\",\n      \"properties\": {\n        \"dtype\": \"number\",\n        \"std\": 145.2184745613077,\n        \"min\": 32.0,\n        \"max\": 472.0,\n        \"num_unique_values\": 8,\n        \"samples\": [\n          230.72187499999998,\n          196.3,\n          32.0\n        ],\n        \"semantic_type\": \"\",\n        \"description\": \"\"\n      }\n    },\n    {\n      \"column\": \"hp\",\n      \"properties\": {\n        \"dtype\": \"number\",\n        \"std\": 96.68236768464196,\n        \"min\": 32.0,\n        \"max\": 335.0,\n        \"num_unique_values\": 8,\n        \"samples\": [\n          146.6875,\n          123.0,\n          32.0\n        ],\n        \"semantic_type\": \"\",\n        \"description\": \"\"\n      }\n    },\n    {\n      \"column\": \"drat\",\n      \"properties\": {\n        \"dtype\": \"number\",\n        \"std\": 10.25494235098045,\n        \"min\": 0.5346787360709715,\n        \"max\": 32.0,\n        \"num_unique_values\": 8,\n        \"samples\": [\n          3.5965625,\n          3.6950000000000003,\n          32.0\n        ],\n        \"semantic_type\": \"\",\n        \"description\": \"\"\n      }\n    },\n    {\n      \"column\": \"wt\",\n      \"properties\": {\n        \"dtype\": \"number\",\n        \"std\": 10.359802177603342,\n        \"min\": 0.9784574429896966,\n        \"max\": 32.0,\n        \"num_unique_values\": 8,\n        \"samples\": [\n          3.2172500000000004,\n          3.325,\n          32.0\n        ],\n        \"semantic_type\": \"\",\n        \"description\": \"\"\n      }\n    },\n    {\n      \"column\": \"qsec\",\n      \"properties\": {\n        \"dtype\": \"number\",\n        \"std\": 8.426146658426392,\n        \"min\": 1.7869432360968431,\n        \"max\": 32.0,\n        \"num_unique_values\": 8,\n        \"samples\": [\n          17.848750000000003,\n          17.71,\n          32.0\n        ],\n        \"semantic_type\": \"\",\n        \"description\": \"\"\n      }\n    },\n    {\n      \"column\": \"vs\",\n      \"properties\": {\n        \"dtype\": \"number\",\n        \"std\": 11.172873686081271,\n        \"min\": 0.0,\n        \"max\": 32.0,\n        \"num_unique_values\": 5,\n        \"samples\": [\n          0.4375,\n          1.0,\n          0.5040161287741853\n        ],\n        \"semantic_type\": \"\",\n        \"description\": \"\"\n      }\n    },\n    {\n      \"column\": \"am\",\n      \"properties\": {\n        \"dtype\": \"number\",\n        \"std\": 11.174697506687018,\n        \"min\": 0.0,\n        \"max\": 32.0,\n        \"num_unique_values\": 5,\n        \"samples\": [\n          0.40625,\n          1.0,\n          0.49899091723584604\n        ],\n        \"semantic_type\": \"\",\n        \"description\": \"\"\n      }\n    },\n    {\n      \"column\": \"gear\",\n      \"properties\": {\n        \"dtype\": \"number\",\n        \"std\": 10.206065911631294,\n        \"min\": 0.7378040652569471,\n        \"max\": 32.0,\n        \"num_unique_values\": 6,\n        \"samples\": [\n          32.0,\n          3.6875,\n          5.0\n        ],\n        \"semantic_type\": \"\",\n        \"description\": \"\"\n      }\n    },\n    {\n      \"column\": \"carb\",\n      \"properties\": {\n        \"dtype\": \"number\",\n        \"std\": 10.465618107507089,\n        \"min\": 1.0,\n        \"max\": 32.0,\n        \"num_unique_values\": 7,\n        \"samples\": [\n          32.0,\n          2.8125,\n          4.0\n        ],\n        \"semantic_type\": \"\",\n        \"description\": \"\"\n      }\n    }\n  ]\n}"
            }
          },
          "metadata": {},
          "execution_count": 27
        }
      ]
    },
    {
      "cell_type": "markdown",
      "source": [
        "Some of these summary statistics will be familiar but what about:  \n",
        "\n",
        "- `std`?\n",
        "- `25%`?\n",
        "- `50%`?\n",
        "- `75%`?"
      ],
      "metadata": {
        "id": "MB0Dwv3rSria"
      },
      "id": "MB0Dwv3rSria"
    },
    {
      "cell_type": "code",
      "source": [
        "# find out how variables are encoded in a dataset\n",
        "df.info()"
      ],
      "metadata": {
        "id": "x9cSMhn7OxEE",
        "colab": {
          "base_uri": "https://localhost:8080/"
        },
        "outputId": "6d5012e7-a5a9-47d2-83a3-0a503e8ae2ac"
      },
      "id": "x9cSMhn7OxEE",
      "execution_count": 28,
      "outputs": [
        {
          "output_type": "stream",
          "name": "stdout",
          "text": [
            "<class 'pandas.core.frame.DataFrame'>\n",
            "Index: 32 entries, Mazda RX4 to Volvo 142E\n",
            "Data columns (total 11 columns):\n",
            " #   Column  Non-Null Count  Dtype  \n",
            "---  ------  --------------  -----  \n",
            " 0   mpg     32 non-null     float64\n",
            " 1   cyl     32 non-null     int64  \n",
            " 2   disp    32 non-null     float64\n",
            " 3   hp      32 non-null     int64  \n",
            " 4   drat    32 non-null     float64\n",
            " 5   wt      32 non-null     float64\n",
            " 6   qsec    32 non-null     float64\n",
            " 7   vs      32 non-null     int64  \n",
            " 8   am      32 non-null     int64  \n",
            " 9   gear    32 non-null     int64  \n",
            " 10  carb    32 non-null     int64  \n",
            "dtypes: float64(5), int64(6)\n",
            "memory usage: 3.0+ KB\n"
          ]
        }
      ]
    },
    {
      "cell_type": "markdown",
      "source": [
        "## Your Turn:  Use AI to learn\n",
        "\n",
        "1. Click on the \"Gemini\" button in the upper right corner of Colab.\n",
        "2. Type \"what is float64\" in the prompt box.\n",
        "3. Type \"what does floating point mean\" in the prompt box.\n",
        "4. Type \"what is int64\" in the prompt box.\n"
      ],
      "metadata": {
        "id": "1tjrkqwFOv-i"
      },
      "id": "1tjrkqwFOv-i"
    },
    {
      "cell_type": "markdown",
      "source": [
        "## Dealing with Errors"
      ],
      "metadata": {
        "id": "K8Yp8_3OQTC8"
      },
      "id": "K8Yp8_3OQTC8"
    },
    {
      "cell_type": "code",
      "source": [
        "import pandas as pd # Import the pandas library for working with DataFrames\n",
        "\n",
        "# Replace 'your_data.csv' with the actual path to your CSV file\n",
        "file_path = 'your_data.csv'  # Update with the correct file name in the current directory, or the full path\n",
        "df = pd.read_csv(file_path)\n",
        "\n",
        "df.info()\n",
        "print(df.head(10)) # Display the first 10 rows of the DataFrame"
      ],
      "metadata": {
        "id": "0lntt3rFQR-4",
        "colab": {
          "base_uri": "https://localhost:8080/"
        },
        "outputId": "129718c5-15db-4df2-bac5-a00ef17663aa"
      },
      "id": "0lntt3rFQR-4",
      "execution_count": 32,
      "outputs": [
        {
          "output_type": "stream",
          "name": "stdout",
          "text": [
            "Error: File not found at correct_data.csv\n"
          ]
        }
      ]
    },
    {
      "cell_type": "markdown",
      "source": [
        "Use AI to Debug Code:\n",
        "\n",
        "- Click the \"Explain Error\" to automatically invoke Gemini\n",
        "- Copy and paste the code and the error message into an external LLM like ChaptGPT or Claude"
      ],
      "metadata": {
        "id": "5kYD_HDaTcx6"
      },
      "id": "5kYD_HDaTcx6"
    },
    {
      "cell_type": "markdown",
      "source": [
        "## Pandas Syntax\n",
        "\n",
        "Pandas is designed to be used primarily with dataframes.  The syntax `df.method()` (where \"method\" could be \"head\" or \"tail\" or \"info\"), indicates that you are using a function on the DataFrame object `df`.\n",
        "\n",
        "So, above, we used `df.head()` etc, meaning that the `head()` function is being used on the DataFrame object, `df`."
      ],
      "metadata": {
        "id": "PnjAZT1XrmW1"
      },
      "id": "PnjAZT1XrmW1"
    },
    {
      "cell_type": "markdown",
      "source": [
        "## Your Turn: Summarize Data with Pandas\n",
        "\n",
        "- Download insurance data.  (I think Matt P showed you this dataset.)"
      ],
      "metadata": {
        "id": "i6RscfVDQfHX"
      },
      "id": "i6RscfVDQfHX"
    },
    {
      "cell_type": "code",
      "source": [
        "!pip install pandas\n",
        "import pandas as pd # Import the pandas library and give it the alias 'pd'\n",
        "\n",
        "idf = pd.read_csv(\"https://raw.githubusercontent.com/matthewpecsok/4482_fall_2022/main/data/insurance.csv\")\n",
        "\n"
      ],
      "metadata": {
        "id": "8zkBVezzQpBJ",
        "colab": {
          "base_uri": "https://localhost:8080/"
        },
        "outputId": "53763d0f-5f10-4b22-f16a-92cd4890bf6a"
      },
      "id": "8zkBVezzQpBJ",
      "execution_count": 33,
      "outputs": [
        {
          "output_type": "stream",
          "name": "stdout",
          "text": [
            "Requirement already satisfied: pandas in /usr/local/lib/python3.10/dist-packages (2.0.3)\n",
            "Requirement already satisfied: python-dateutil>=2.8.2 in /usr/local/lib/python3.10/dist-packages (from pandas) (2.8.2)\n",
            "Requirement already satisfied: pytz>=2020.1 in /usr/local/lib/python3.10/dist-packages (from pandas) (2023.4)\n",
            "Requirement already satisfied: tzdata>=2022.1 in /usr/local/lib/python3.10/dist-packages (from pandas) (2024.1)\n",
            "Requirement already satisfied: numpy>=1.21.0 in /usr/local/lib/python3.10/dist-packages (from pandas) (1.25.2)\n",
            "Requirement already satisfied: six>=1.5 in /usr/local/lib/python3.10/dist-packages (from python-dateutil>=2.8.2->pandas) (1.16.0)\n"
          ]
        }
      ]
    },
    {
      "cell_type": "markdown",
      "source": [
        "1. Display top and bottom rows of  `idf`.\n",
        "\n",
        "\n",
        "2. What is the average expense? (Hint:  use the functions above.  Later on we'll find other ways of doing the calculation.)\n",
        "\n",
        "3. What is the median age?"
      ],
      "metadata": {
        "id": "OYtLZAEIQ_NA"
      },
      "id": "OYtLZAEIQ_NA"
    },
    {
      "cell_type": "code",
      "source": [
        "import pandas as pd\n",
        "\n",
        "# Load the dataframe from the provided URL\n",
        "idf = pd.read_csv(\"https://raw.githubusercontent.com/matthewpecsok/4482_fall_2022/main/data/insurance.csv\")\n",
        "\n",
        "# Display the top rows\n",
        "top_rows = idf.head()\n",
        "\n",
        "# Display the bottom rows\n",
        "bottom_rows = idf.tail()\n",
        "\n",
        "print(\"Top rows of the dataframe:\")\n",
        "print(top_rows)\n",
        "\n",
        "print(\"\\nBottom rows of the dataframe:\")\n",
        "print(bottom_rows)"
      ],
      "metadata": {
        "id": "XhPDWkqJTJ0y",
        "colab": {
          "base_uri": "https://localhost:8080/"
        },
        "outputId": "78ce65a7-3ee5-4972-a198-28e7dbc32055"
      },
      "id": "XhPDWkqJTJ0y",
      "execution_count": 7,
      "outputs": [
        {
          "output_type": "stream",
          "name": "stdout",
          "text": [
            "Top rows of the dataframe:\n",
            "   age     sex     bmi  children smoker     region     expenses\n",
            "0   19  female  27.900         0    yes  southwest  16884.92400\n",
            "1   18    male  33.770         1     no  southeast   1725.55230\n",
            "2   28    male  33.000         3     no  southeast   4449.46200\n",
            "3   33    male  22.705         0     no  northwest  21984.47061\n",
            "4   32    male  28.880         0     no  northwest   3866.85520\n",
            "\n",
            "Bottom rows of the dataframe:\n",
            "      age     sex    bmi  children smoker     region    expenses\n",
            "1333   50    male  30.97         3     no  northwest  10600.5483\n",
            "1334   18  female  31.92         0     no  northeast   2205.9808\n",
            "1335   18  female  36.85         0     no  southeast   1629.8335\n",
            "1336   21  female  25.80         0     no  southwest   2007.9450\n",
            "1337   61  female  29.07         0    yes  northwest  29141.3603\n"
          ]
        }
      ]
    },
    {
      "cell_type": "code",
      "source": [
        "import pandas as pd\n",
        "\n",
        "# Load the dataframe from the provided URL\n",
        "idf = pd.read_csv(\"https://raw.githubusercontent.com/matthewpecsok/4482_fall_2022/main/data/insurance.csv\")\n",
        "\n",
        "# Calculate the average expense\n",
        "average_expense = idf['expenses'].mean()\n",
        "\n",
        "print(\"The average expense is:\", average_expense)"
      ],
      "metadata": {
        "id": "25_YHP0lTUuG",
        "colab": {
          "base_uri": "https://localhost:8080/"
        },
        "outputId": "b9835ae9-67f2-4772-b739-f9a029510c0c"
      },
      "id": "25_YHP0lTUuG",
      "execution_count": 8,
      "outputs": [
        {
          "output_type": "stream",
          "name": "stdout",
          "text": [
            "The average expense is: 13270.422265141257\n"
          ]
        }
      ]
    },
    {
      "cell_type": "code",
      "source": [
        "import pandas as pd\n",
        "\n",
        "# Load the dataframe from the provided URL\n",
        "idf = pd.read_csv(\"https://raw.githubusercontent.com/matthewpecsok/4482_fall_2022/main/data/insurance.csv\")\n",
        "\n",
        "# Calculate the median age\n",
        "median_age = idf['age'].median()\n",
        "\n",
        "print(\"The median age is:\", median_age)"
      ],
      "metadata": {
        "id": "ReNprVRlTkkG",
        "colab": {
          "base_uri": "https://localhost:8080/"
        },
        "outputId": "6d996c43-2896-4bd3-afc5-997ce09fe8a9"
      },
      "id": "ReNprVRlTkkG",
      "execution_count": 9,
      "outputs": [
        {
          "output_type": "stream",
          "name": "stdout",
          "text": [
            "The median age is: 39.0\n"
          ]
        }
      ]
    },
    {
      "cell_type": "markdown",
      "metadata": {
        "id": "57cbb3f6"
      },
      "source": [
        "# Visualizing Data Using Pandas\n",
        "\n",
        "\n",
        "Pandas can create a variety of plots with the `df.plot(kind = \"...\")` syntax (where plotting is an attribute of the dataframe). (It is using the Matplotlib library in the background.)\n",
        "\n",
        "Here are examples."
      ],
      "id": "57cbb3f6"
    },
    {
      "cell_type": "markdown",
      "source": [
        "## Line Chart"
      ],
      "metadata": {
        "id": "0LJ3un9V5duK"
      },
      "id": "0LJ3un9V5duK"
    },
    {
      "cell_type": "code",
      "metadata": {
        "id": "8f0dd9dc",
        "colab": {
          "base_uri": "https://localhost:8080/",
          "height": 447
        },
        "outputId": "ebb936fe-6b23-45ab-f31b-af6a4ba06a4c"
      },
      "source": [
        "#Line chart\n",
        "idf['expenses'].plot(kind = \"line\", color='blue') # Use 'idf' instead of 'df'"
      ],
      "id": "8f0dd9dc",
      "execution_count": 15,
      "outputs": [
        {
          "output_type": "execute_result",
          "data": {
            "text/plain": [
              "<Axes: >"
            ]
          },
          "metadata": {},
          "execution_count": 15
        },
        {
          "output_type": "display_data",
          "data": {
            "text/plain": [
              "<Figure size 640x480 with 1 Axes>"
            ],
            "image/png": "[encoded data removed]"
          },
          "metadata": {}
        }
      ]
    },
    {
      "cell_type": "markdown",
      "source": [
        "- `df['mpg']`: defines a Pandas series\n",
        "- `.plot()`: calls the generic plot function\n",
        "- `kind = \"line\"`: an argument to the `plot()` function that defines the type of plot\n",
        "- `color = \"blue\"`:   another argument to the `plot()` function that defines the color of the plot, in this case the line\n",
        "\n",
        "Incidentally, we can use single ('...') or double (\"...\") quotation marks interchangeably in Python to define a string.\n",
        "\n",
        "Most functions have a lot of possible arguments.  For example, we can rotate the labels of the cars for legibility (`rot = `), and define the axis labels (`xlabel`, `ylabel`)."
      ],
      "metadata": {
        "id": "xR1l9wRjIcvu"
      },
      "id": "xR1l9wRjIcvu"
    },
    {
      "cell_type": "code",
      "source": [
        "import pandas as pd # Import the pandas library for DataFrame manipulation\n",
        "\n",
        "# Sample data (replace this with your actual data)\n",
        "data = {'Car': ['A', 'B', 'C', 'D'],\n",
        "        'mpg': [25, 30, 28, 32]}\n",
        "\n",
        "df = pd.DataFrame(data) # Create a DataFrame named 'df'\n",
        "\n",
        "# Fix the  x-axis labels\n",
        "df['mpg'].plot(kind = \"line\",\n",
        "               color='blue',\n",
        "               rot = 90,\n",
        "               xlabel = \"Car\",\n",
        "               ylabel = \"Miles per gallon\")"
      ],
      "metadata": {
        "id": "8dPYwlIG49fy",
        "colab": {
          "base_uri": "https://localhost:8080/",
          "height": 474
        },
        "outputId": "11c07c5d-365d-4f55-8b49-d3eb5c56283b"
      },
      "id": "8dPYwlIG49fy",
      "execution_count": 17,
      "outputs": [
        {
          "output_type": "execute_result",
          "data": {
            "text/plain": [
              "<Axes: xlabel='Car', ylabel='Miles per gallon'>"
            ]
          },
          "metadata": {},
          "execution_count": 17
        },
        {
          "output_type": "display_data",
          "data": {
            "text/plain": [
              "<Figure size 640x480 with 1 Axes>"
            ],
            "image/png": "[encoded data removed]"
          },
          "metadata": {}
        }
      ]
    },
    {
      "cell_type": "markdown",
      "source": [
        "How would you add a title? Yes, it would be `plot(title = \"...\")`. (Plots need titles!)"
      ],
      "metadata": {
        "id": "20jYqUzSKaud"
      },
      "id": "20jYqUzSKaud"
    },
    {
      "cell_type": "markdown",
      "source": [
        "## Bar Chart"
      ],
      "metadata": {
        "id": "XC7tOMrj5qUa"
      },
      "id": "XC7tOMrj5qUa"
    },
    {
      "cell_type": "code",
      "metadata": {
        "id": "11bf5272",
        "colab": {
          "base_uri": "https://localhost:8080/",
          "height": 469
        },
        "outputId": "99c243ab-8046-44a3-a9a8-72beab92b3fe"
      },
      "source": [
        "# Bar chart\n",
        "df['mpg'].plot(kind = \"barh\",\n",
        "               color='red',\n",
        "               xticks=[0,10,20],\n",
        "               title = \"Car MPG\")"
      ],
      "id": "11bf5272",
      "execution_count": 18,
      "outputs": [
        {
          "output_type": "execute_result",
          "data": {
            "text/plain": [
              "<Axes: title={'center': 'Car MPG'}>"
            ]
          },
          "metadata": {},
          "execution_count": 18
        },
        {
          "output_type": "display_data",
          "data": {
            "text/plain": [
              "<Figure size 640x480 with 1 Axes>"
            ],
            "image/png": "[encoded data removed]"
          },
          "metadata": {}
        }
      ]
    },
    {
      "cell_type": "markdown",
      "source": [
        "Pandas automatically uses the row names as the labels on the left.\n",
        "\n",
        "Why have we used `kind = \"barh\"`?  This stands for \"horizontal barplot\", which better accommodates the row names, compared to the default which would put the row names horizontally on the horizontal axis.\n",
        "\n",
        "How would we get appropriate axis labels?"
      ],
      "metadata": {
        "id": "YRRcPMDsKvBe"
      },
      "id": "YRRcPMDsKvBe"
    },
    {
      "cell_type": "markdown",
      "source": [],
      "metadata": {
        "id": "Y8gFaNnmTaBC"
      },
      "id": "Y8gFaNnmTaBC"
    },
    {
      "cell_type": "code",
      "source": [
        "df['mpg'].plot(kind = \"barh\",\n",
        "               color='red',\n",
        "               xticks=[0,10,20],\n",
        "               title = \"Car MPG\",\n",
        "               xlabel = \"Miles per Gallon\",\n",
        "               ylabel = \"Cars\")"
      ],
      "metadata": {
        "id": "R5qpWsWML048",
        "colab": {
          "base_uri": "https://localhost:8080/",
          "height": 489
        },
        "outputId": "d6eeb101-109f-4018-eef5-775765e23d16"
      },
      "id": "R5qpWsWML048",
      "execution_count": 19,
      "outputs": [
        {
          "output_type": "execute_result",
          "data": {
            "text/plain": [
              "<Axes: title={'center': 'Car MPG'}, xlabel='Miles per Gallon', ylabel='Cars'>"
            ]
          },
          "metadata": {},
          "execution_count": 19
        },
        {
          "output_type": "display_data",
          "data": {
            "text/plain": [
              "<Figure size 640x480 with 1 Axes>"
            ],
            "image/png": "[encoded data removed]"
          },
          "metadata": {}
        }
      ]
    },
    {
      "cell_type": "markdown",
      "source": [
        "## Histogram"
      ],
      "metadata": {
        "id": "6oGAnh8H5tNh"
      },
      "id": "6oGAnh8H5tNh"
    },
    {
      "cell_type": "code",
      "metadata": {
        "id": "f99d01a2",
        "colab": {
          "base_uri": "https://localhost:8080/",
          "height": 469
        },
        "outputId": "f6ad52bc-f40b-4edc-948f-5a86ab0a0d80"
      },
      "source": [
        "#Histogram\n",
        "df['mpg'].plot(kind = \"hist\",\n",
        "               bins=15,\n",
        "               title='Miles Per Gallon')"
      ],
      "id": "f99d01a2",
      "execution_count": 20,
      "outputs": [
        {
          "output_type": "execute_result",
          "data": {
            "text/plain": [
              "<Axes: title={'center': 'Miles Per Gallon'}, ylabel='Frequency'>"
            ]
          },
          "metadata": {},
          "execution_count": 20
        },
        {
          "output_type": "display_data",
          "data": {
            "text/plain": [
              "<Figure size 640x480 with 1 Axes>"
            ],
            "image/png": "[encoded data removed]"
          },
          "metadata": {}
        }
      ]
    },
    {
      "cell_type": "markdown",
      "source": [
        "## Your Turn:  Customize the plot\n",
        "\n",
        "- Add appropriate x- and y- axis labels"
      ],
      "metadata": {
        "id": "IYbC1QngMOZ_"
      },
      "id": "IYbC1QngMOZ_"
    },
    {
      "cell_type": "code",
      "source": [
        "import pandas as pd\n",
        "import matplotlib.pyplot as plt\n",
        "\n",
        "# Assuming 'df' is your DataFrame and it has a column named 'mpg'\n",
        "df['mpg'].plot(kind='hist', bins=15)\n",
        "plt.title('Distribution of Miles Per Gallon')\n",
        "plt.xlabel('Miles Per Gallon')\n",
        "plt.ylabel('Frequency')\n",
        "plt.show()"
      ],
      "metadata": {
        "id": "RYAPhsyyMdBc",
        "colab": {
          "base_uri": "https://localhost:8080/",
          "height": 472
        },
        "outputId": "5df7c39c-894f-4eba-8ef1-883ffd9d922b"
      },
      "id": "RYAPhsyyMdBc",
      "execution_count": 21,
      "outputs": [
        {
          "output_type": "display_data",
          "data": {
            "text/plain": [
              "<Figure size 640x480 with 1 Axes>"
            ],
            "image/png": "[encoded data removed]"
          },
          "metadata": {}
        }
      ]
    },
    {
      "cell_type": "markdown",
      "source": [
        "## Boxplot\n",
        "\n",
        "Boxplots are best for showing the relationship between a numeric and a categorical variable. Specifically, they reveal the distribution of the numeric variable at different levels of the categorical variable.\n",
        "\n",
        "Here is a box plot showing the distribution for just one numeric variable."
      ],
      "metadata": {
        "id": "0c3Rugmz5xyL"
      },
      "id": "0c3Rugmz5xyL"
    },
    {
      "cell_type": "code",
      "source": [
        " # Boxplot\n",
        " df.plot(kind = \"box\", column = \"mpg\")"
      ],
      "metadata": {
        "id": "AZzPxYi7XLS2",
        "colab": {
          "base_uri": "https://localhost:8080/",
          "height": 451
        },
        "outputId": "641a1b67-2ba9-4dce-f9b6-972260d88d01"
      },
      "id": "AZzPxYi7XLS2",
      "execution_count": 34,
      "outputs": [
        {
          "output_type": "execute_result",
          "data": {
            "text/plain": [
              "<Axes: >"
            ]
          },
          "metadata": {},
          "execution_count": 34
        },
        {
          "output_type": "display_data",
          "data": {
            "text/plain": [
              "<Figure size 640x480 with 1 Axes>"
            ],
            "image/png": "[encoded data removed]"
          },
          "metadata": {}
        }
      ]
    },
    {
      "cell_type": "markdown",
      "source": [
        "And here is a box plot showing the relationship between a categorical and a numeric variable"
      ],
      "metadata": {
        "id": "7E3JaS_8NCsF"
      },
      "id": "7E3JaS_8NCsF"
    },
    {
      "cell_type": "code",
      "source": [
        "# Boxplot showing distribution of mpg at levels of cyl\n",
        "\n",
        "df.plot(kind = \"box\", column = \"mpg\", by = \"cyl\")"
      ],
      "metadata": {
        "id": "YrAynPetXpRk",
        "colab": {
          "base_uri": "https://localhost:8080/",
          "height": 487
        },
        "outputId": "f914b960-d791-46f2-88c7-06cb4b8b3bc2"
      },
      "id": "YrAynPetXpRk",
      "execution_count": 35,
      "outputs": [
        {
          "output_type": "execute_result",
          "data": {
            "text/plain": [
              "mpg    Axes(0.125,0.11;0.775x0.77)\n",
              "dtype: object"
            ]
          },
          "metadata": {},
          "execution_count": 35
        },
        {
          "output_type": "display_data",
          "data": {
            "text/plain": [
              "<Figure size 640x480 with 1 Axes>"
            ],
            "image/png": "[encoded data removed]"
          },
          "metadata": {}
        }
      ]
    },
    {
      "cell_type": "markdown",
      "source": [
        "## Scatterplot"
      ],
      "metadata": {
        "id": "DEdcJiD350Uq"
      },
      "id": "DEdcJiD350Uq"
    },
    {
      "cell_type": "code",
      "metadata": {
        "id": "86c92eb8",
        "colab": {
          "base_uri": "https://localhost:8080/",
          "height": 466
        },
        "outputId": "000b5fc1-6b9a-466e-8b3b-71d2da4c23ed"
      },
      "source": [
        "# Scatter plot\n",
        "df.plot(kind = \"scatter\", x = 'mpg',y = 'hp',c = 'wt')"
      ],
      "id": "86c92eb8",
      "execution_count": 36,
      "outputs": [
        {
          "output_type": "execute_result",
          "data": {
            "text/plain": [
              "<Axes: xlabel='mpg', ylabel='hp'>"
            ]
          },
          "metadata": {},
          "execution_count": 36
        },
        {
          "output_type": "display_data",
          "data": {
            "text/plain": [
              "<Figure size 640x480 with 2 Axes>"
            ],
            "image/png": "[encoded data removed]"
          },
          "metadata": {}
        }
      ]
    },
    {
      "cell_type": "markdown",
      "source": [
        "There are a couple of things to notice here.\n",
        "1. This plot shows the relationship between *three* variables: `mpg`, `hp`, and `wt`.  \n",
        "2. `wt` is a continuous variable, so the color scale is appropriately continuous.  The legend on the right uses hue to represent gradations.\n",
        "\n",
        "Suppose that the color scale was used to represent *discrete* differences between categories. Here is what that would look like:"
      ],
      "metadata": {
        "id": "SmKqvAOwVp63"
      },
      "id": "SmKqvAOwVp63"
    },
    {
      "cell_type": "code",
      "metadata": {
        "id": "JtpWXyNSXHzu",
        "colab": {
          "base_uri": "https://localhost:8080/",
          "height": 466
        },
        "outputId": "4c8314eb-1639-4de6-87fb-e81501bb8433"
      },
      "source": [
        "# First make cyl explicitly a categorical variable\n",
        "df[\"cyl\"] = df[\"cyl\"].astype(\"category\")\n",
        "\n",
        "# Now use cyl to set the color scheme\n",
        "df.plot(kind = \"scatter\", x = 'mpg',y = 'hp',c = 'cyl', cmap='viridis')"
      ],
      "execution_count": 37,
      "outputs": [
        {
          "output_type": "execute_result",
          "data": {
            "text/plain": [
              "<Axes: xlabel='mpg', ylabel='hp'>"
            ]
          },
          "metadata": {},
          "execution_count": 37
        },
        {
          "output_type": "display_data",
          "data": {
            "text/plain": [
              "<Figure size 640x480 with 2 Axes>"
            ],
            "image/png": "[encoded data removed]"
          },
          "metadata": {}
        }
      ],
      "id": "JtpWXyNSXHzu"
    },
    {
      "cell_type": "markdown",
      "source": [
        "## Your Turn: Visualizing Relationships\n",
        "\n",
        "Using the `idf` dataset:\n",
        "\n",
        "1. Make a plot showing the distribution of `bmi` by `sex`.\n",
        "2. Make a plot showing how the relationship between `bmi` and `expenses` differs by `region`.\n",
        "3. Does the relationship between `bmi` and `expenses` differ by `age`?\n",
        "\n",
        "Make interpretive comments on all your plots."
      ],
      "metadata": {
        "id": "eujnIuAGYjus"
      },
      "id": "eujnIuAGYjus"
    },
    {
      "cell_type": "code",
      "source": [
        "import pandas as pd\n",
        "import seaborn as sns\n",
        "import matplotlib.pyplot as plt\n",
        "\n",
        "# Sample data creation\n",
        "data = {\n",
        "    'bmi': [22, 25, 27, 23, 30, 24, 29, 31, 28, 26],\n",
        "    'sex': ['male', 'female', 'female', 'male', 'female', 'male', 'female', 'male', 'female', 'male']\n",
        "}\n",
        "\n",
        "df = pd.DataFrame(data)\n",
        "\n",
        "# Create a boxplot to show the distribution of BMI by sex\n",
        "plt.figure(figsize=(8, 6))\n",
        "sns.boxplot(x='sex', y='bmi', data=df)\n",
        "plt.title('Distribution of BMI by Sex')\n",
        "plt.xlabel('Sex')\n",
        "plt.ylabel('BMI')\n",
        "plt.show()"
      ],
      "metadata": {
        "id": "FSBdjP6bY6KM",
        "colab": {
          "base_uri": "https://localhost:8080/",
          "height": 564
        },
        "outputId": "dba8c8c6-b482-4e60-ea23-377b5bcad24a"
      },
      "id": "FSBdjP6bY6KM",
      "execution_count": 38,
      "outputs": [
        {
          "output_type": "display_data",
          "data": {
            "text/plain": [
              "<Figure size 800x600 with 1 Axes>"
            ],
            "image/png": "[encoded data removed]"
          },
          "metadata": {}
        }
      ]
    },
    {
      "cell_type": "code",
      "source": [
        "import pandas as pd\n",
        "import seaborn as sns\n",
        "import matplotlib.pyplot as plt\n",
        "\n",
        "# Sample data creation\n",
        "data = {\n",
        "    'bmi': [22, 25, 27, 23, 30, 24, 29, 31, 28, 26, 24, 30, 25, 27, 23],\n",
        "    'expenses': [2100, 2300, 2200, 2500, 2700, 2600, 2800, 2900, 3000, 3100, 3200, 3300, 3400, 3500, 3600],\n",
        "    'region': ['north', 'south', 'east', 'west', 'north', 'south', 'east', 'west', 'north', 'south', 'east', 'west', 'north', 'south', 'east']\n",
        "}\n",
        "\n",
        "df = pd.DataFrame(data)\n",
        "\n",
        "# Create a scatter plot with regression lines to show the relationship between BMI and expenses by region\n",
        "plt.figure(figsize=(10, 8))\n",
        "sns.lmplot(x='bmi', y='expenses', hue='region', data=df, aspect=1.5, height=6)\n",
        "plt.title('Relationship between BMI and Expenses by Region')\n",
        "plt.xlabel('BMI')\n",
        "plt.ylabel('Expenses')\n",
        "plt.show()"
      ],
      "metadata": {
        "id": "sm49gzlGaGR-",
        "colab": {
          "base_uri": "https://localhost:8080/",
          "height": 552
        },
        "outputId": "1deecff1-fc96-416a-e619-5cbd0a325797"
      },
      "id": "sm49gzlGaGR-",
      "execution_count": 39,
      "outputs": [
        {
          "output_type": "display_data",
          "data": {
            "text/plain": [
              "<Figure size 1000x800 with 0 Axes>"
            ]
          },
          "metadata": {}
        },
        {
          "output_type": "display_data",
          "data": {
            "text/plain": [
              "<Figure size 988.625x600 with 1 Axes>"
            ],
            "image/png": "[encoded data removed]"
          },
          "metadata": {}
        }
      ]
    },
    {
      "cell_type": "code",
      "source": [
        "import pandas as pd\n",
        "import seaborn as sns\n",
        "import matplotlib.pyplot as plt\n",
        "\n",
        "# Sample data creation\n",
        "data = {\n",
        "    'bmi': [22, 25, 27, 23, 30, 24, 29, 31, 28, 26, 24, 30, 25, 27, 23],\n",
        "    'expenses': [2100, 2300, 2200, 2500, 2700, 2600, 2800, 2900, 3000, 3100, 3200, 3300, 3400, 3500, 3600],\n",
        "    'age': [35, 45, 40, 50, 55, 60, 65, 70, 75, 80, 35, 45, 40, 50, 55]\n",
        "}\n",
        "\n",
        "df = pd.DataFrame(data)\n",
        "\n",
        "# Create scatter plots with regression lines for different age groups\n",
        "plt.figure(figsize=(12, 6))\n",
        "sns.lmplot(x='bmi', y='expenses', hue='age', data=df, height=8, aspect=1.5)\n",
        "plt.title('Relationship between BMI and Expenses by Age')\n",
        "plt.xlabel('BMI')\n",
        "plt.ylabel('Expenses')\n",
        "plt.show()"
      ],
      "metadata": {
        "id": "X7DCr30WaF5o",
        "colab": {
          "base_uri": "https://localhost:8080/",
          "height": 567
        },
        "outputId": "0beb2d82-1f51-4750-be26-d85285231943"
      },
      "id": "X7DCr30WaF5o",
      "execution_count": 40,
      "outputs": [
        {
          "output_type": "display_data",
          "data": {
            "text/plain": [
              "<Figure size 1200x600 with 0 Axes>"
            ]
          },
          "metadata": {}
        },
        {
          "output_type": "display_data",
          "data": {
            "text/plain": [
              "<Figure size 1267.62x800 with 1 Axes>"
            ],
            "image/png": "[encoded data removed]"
          },
          "metadata": {}
        }
      ]
    },
    {
      "cell_type": "markdown",
      "metadata": {
        "id": "6fe3def5"
      },
      "source": [
        "# Summary of Functions\n",
        "\n",
        "Here's a summary of the key functions covered:\n",
        "\n",
        "- `pd.DataFrame()`: Creates a DataFrame from a dictionary or other data source\n",
        "- `df.head()`: Displays the first few rows of a DataFrame\n",
        "- `df.tail()`: Displays the last few rows of a DataFrame\n",
        "- `df.info()`: Provides a concise summary of a DataFrame\n",
        "- `df.describe()`: Generates descriptive statistics of a DataFrame\n",
        "- `df.plot(kind = \"line\")`: Creates a line chart\n",
        "- `df.plot(kind = \"barh\")`: Creates a horizontal bar chart\n",
        "- `df.plot(kind = \"hist\")`: Creates a histogram\n",
        "- `df.plot(kind = \"box\")`: Creates a box plot\n",
        "- `df.plot(kind = \"scatter\")`: Creates a scatter plot\n",
        "\n"
      ],
      "id": "6fe3def5"
    }
  ],
  "metadata": {
    "kernelspec": {
      "name": "python3",
      "language": "python",
      "display_name": "Python 3 (ipykernel)"
    },
    "colab": {
      "provenance": [],
      "toc_visible": true,
      "include_colab_link": true
    }
  },
  "nbformat": 4,
  "nbformat_minor": 5
}